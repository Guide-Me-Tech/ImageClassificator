{
 "cells": [
  {
   "cell_type": "code",
   "execution_count": 2,
   "metadata": {},
   "outputs": [],
   "source": [
    "import json\n",
    "from clients.models import ProductItem"
   ]
  },
  {
   "cell_type": "code",
   "execution_count": 3,
   "metadata": {},
   "outputs": [],
   "source": [
    "import pandas as pd\n",
    "import os"
   ]
  },
  {
   "cell_type": "code",
   "execution_count": 18,
   "metadata": {},
   "outputs": [],
   "source": [
    "all_df = pd.read_csv('ImageClassificator/all.csv')\n",
    "df = pd.read_json(\"processed_with_filenames.json\", lines=True)"
   ]
  },
  {
   "cell_type": "code",
   "execution_count": 42,
   "metadata": {},
   "outputs": [],
   "source": [
    "import torch\n",
    "torch.cuda.empty_cache()\n"
   ]
  },
  {
   "cell_type": "code",
   "execution_count": 6,
   "metadata": {},
   "outputs": [
    {
     "data": {
      "text/plain": [
       "(8000, 1591)"
      ]
     },
     "execution_count": 6,
     "metadata": {},
     "output_type": "execute_result"
    }
   ],
   "source": [
    "df['id'].nunique(), all_df['id'].nunique()"
   ]
  },
  {
   "cell_type": "code",
   "execution_count": 7,
   "metadata": {},
   "outputs": [],
   "source": [
    "categs = []\n",
    "\n",
    "for cat in df.categories:\n",
    "    categs.extend(cat)\n",
    "\n",
    "categs = set(categs)"
   ]
  },
  {
   "cell_type": "code",
   "execution_count": 8,
   "metadata": {},
   "outputs": [
    {
     "data": {
      "text/plain": [
       "True"
      ]
     },
     "execution_count": 8,
     "metadata": {},
     "output_type": "execute_result"
    }
   ],
   "source": [
    "'Elektronika' in categs"
   ]
  },
  {
   "cell_type": "code",
   "execution_count": 19,
   "metadata": {},
   "outputs": [
    {
     "data": {
      "text/html": [
       "<div>\n",
       "<style scoped>\n",
       "    .dataframe tbody tr th:only-of-type {\n",
       "        vertical-align: middle;\n",
       "    }\n",
       "\n",
       "    .dataframe tbody tr th {\n",
       "        vertical-align: top;\n",
       "    }\n",
       "\n",
       "    .dataframe thead th {\n",
       "        text-align: right;\n",
       "    }\n",
       "</style>\n",
       "<table border=\"1\" class=\"dataframe\">\n",
       "  <thead>\n",
       "    <tr style=\"text-align: right;\">\n",
       "      <th></th>\n",
       "      <th>id</th>\n",
       "      <th>name_uz</th>\n",
       "      <th>name_ru</th>\n",
       "      <th>name_en</th>\n",
       "    </tr>\n",
       "  </thead>\n",
       "  <tbody>\n",
       "    <tr>\n",
       "      <th>0</th>\n",
       "      <td>5371</td>\n",
       "      <td>Quloqchinlar va audio texnikalar</td>\n",
       "      <td>Наушники и аудиооборудование</td>\n",
       "      <td>Headphones and audio equipment</td>\n",
       "    </tr>\n",
       "    <tr>\n",
       "      <th>1</th>\n",
       "      <td>5400</td>\n",
       "      <td>Quloqchinlar</td>\n",
       "      <td>Наушники</td>\n",
       "      <td>Headphones</td>\n",
       "    </tr>\n",
       "    <tr>\n",
       "      <th>2</th>\n",
       "      <td>5243</td>\n",
       "      <td>Elektronika</td>\n",
       "      <td>Электроника</td>\n",
       "      <td>Electronics</td>\n",
       "    </tr>\n",
       "    <tr>\n",
       "      <th>3</th>\n",
       "      <td>5499</td>\n",
       "      <td>Smartfonlar</td>\n",
       "      <td>Смартфоны</td>\n",
       "      <td>Smartphones</td>\n",
       "    </tr>\n",
       "    <tr>\n",
       "      <th>4</th>\n",
       "      <td>6396</td>\n",
       "      <td>Aksessuarlar</td>\n",
       "      <td>Аксессуары</td>\n",
       "      <td>Accessories</td>\n",
       "    </tr>\n",
       "    <tr>\n",
       "      <th>...</th>\n",
       "      <td>...</td>\n",
       "      <td>...</td>\n",
       "      <td>...</td>\n",
       "      <td>...</td>\n",
       "    </tr>\n",
       "    <tr>\n",
       "      <th>1587</th>\n",
       "      <td>5257</td>\n",
       "      <td>Kabel himoyasi</td>\n",
       "      <td>Защита кабеля</td>\n",
       "      <td>Cable protection</td>\n",
       "    </tr>\n",
       "    <tr>\n",
       "      <th>1588</th>\n",
       "      <td>5263</td>\n",
       "      <td>Kuchlanishni oʻzgartirgichlar</td>\n",
       "      <td>Преобразователи напряжения</td>\n",
       "      <td>Voltage converters</td>\n",
       "    </tr>\n",
       "    <tr>\n",
       "      <th>1589</th>\n",
       "      <td>5267</td>\n",
       "      <td>Elektr tarmoqlagichlar</td>\n",
       "      <td>Электрические розетки</td>\n",
       "      <td>Electrical outlets</td>\n",
       "    </tr>\n",
       "    <tr>\n",
       "      <th>1590</th>\n",
       "      <td>5255</td>\n",
       "      <td>Akkumulyatorlar uchun zaryadlovchi qurilmalari</td>\n",
       "      <td>Зарядные устройства для аккумуляторов</td>\n",
       "      <td>Battery chargers</td>\n",
       "    </tr>\n",
       "    <tr>\n",
       "      <th>1591</th>\n",
       "      <td>5249</td>\n",
       "      <td>Simlar uchun qutilar</td>\n",
       "      <td>Коробки для проводов</td>\n",
       "      <td>Boxes for wires</td>\n",
       "    </tr>\n",
       "  </tbody>\n",
       "</table>\n",
       "<p>1592 rows × 4 columns</p>\n",
       "</div>"
      ],
      "text/plain": [
       "        id                                         name_uz  \\\n",
       "0     5371                Quloqchinlar va audio texnikalar   \n",
       "1     5400                                    Quloqchinlar   \n",
       "2     5243                                     Elektronika   \n",
       "3     5499                                     Smartfonlar   \n",
       "4     6396                                    Aksessuarlar   \n",
       "...    ...                                             ...   \n",
       "1587  5257                                  Kabel himoyasi   \n",
       "1588  5263                   Kuchlanishni oʻzgartirgichlar   \n",
       "1589  5267                          Elektr tarmoqlagichlar   \n",
       "1590  5255  Akkumulyatorlar uchun zaryadlovchi qurilmalari   \n",
       "1591  5249                            Simlar uchun qutilar   \n",
       "\n",
       "                                    name_ru                         name_en  \n",
       "0              Наушники и аудиооборудование  Headphones and audio equipment  \n",
       "1                                  Наушники                      Headphones  \n",
       "2                               Электроника                     Electronics  \n",
       "3                                 Смартфоны                     Smartphones  \n",
       "4                                Аксессуары                     Accessories  \n",
       "...                                     ...                             ...  \n",
       "1587                          Защита кабеля                Cable protection  \n",
       "1588             Преобразователи напряжения              Voltage converters  \n",
       "1589                  Электрические розетки              Electrical outlets  \n",
       "1590  Зарядные устройства для аккумуляторов                Battery chargers  \n",
       "1591                   Коробки для проводов                 Boxes for wires  \n",
       "\n",
       "[1592 rows x 4 columns]"
      ]
     },
     "execution_count": 19,
     "metadata": {},
     "output_type": "execute_result"
    }
   ],
   "source": [
    "all_df"
   ]
  },
  {
   "cell_type": "code",
   "execution_count": 20,
   "metadata": {},
   "outputs": [
    {
     "data": {
      "text/plain": [
       "428    Sports and leisure\n",
       "Name: name_en, dtype: object"
      ]
     },
     "execution_count": 20,
     "metadata": {},
     "output_type": "execute_result"
    }
   ],
   "source": [
    "all_df[all_df['name_uz'] == 'Sport va hordiq']['name_en']"
   ]
  },
  {
   "cell_type": "code",
   "execution_count": 17,
   "metadata": {},
   "outputs": [
    {
     "data": {
      "text/html": [
       "<div>\n",
       "<style scoped>\n",
       "    .dataframe tbody tr th:only-of-type {\n",
       "        vertical-align: middle;\n",
       "    }\n",
       "\n",
       "    .dataframe tbody tr th {\n",
       "        vertical-align: top;\n",
       "    }\n",
       "\n",
       "    .dataframe thead th {\n",
       "        text-align: right;\n",
       "    }\n",
       "</style>\n",
       "<table border=\"1\" class=\"dataframe\">\n",
       "  <thead>\n",
       "    <tr style=\"text-align: right;\">\n",
       "      <th></th>\n",
       "      <th>id</th>\n",
       "      <th>name</th>\n",
       "      <th>slug</th>\n",
       "      <th>brand</th>\n",
       "      <th>categories</th>\n",
       "      <th>short_name</th>\n",
       "      <th>all_images</th>\n",
       "      <th>filenames</th>\n",
       "    </tr>\n",
       "  </thead>\n",
       "  <tbody>\n",
       "    <tr>\n",
       "      <th>93</th>\n",
       "      <td>75449</td>\n",
       "      <td>ADIDAS futbol to'pi, ko‘k</td>\n",
       "      <td>futbolnyi-miac-adidas-sinii-75449</td>\n",
       "      <td>None</td>\n",
       "      <td>[Futbol, Sport turlari, Sport va hordiq]</td>\n",
       "      <td>ADIDAS futbol to'pi, ko‘k</td>\n",
       "      <td>[https://s3.smartbank.uz/market-default/produc...</td>\n",
       "      <td>[images/75449_https:__s3.smartbank.uz_market-d...</td>\n",
       "    </tr>\n",
       "    <tr>\n",
       "      <th>94</th>\n",
       "      <td>83880</td>\n",
       "      <td>PowerGym E143 elliptik trenajyori</td>\n",
       "      <td>ellipticeskii-trenazer-powergym-e143-83880</td>\n",
       "      <td>{'id': 430, 'name': 'PowerGym'}</td>\n",
       "      <td>[Kardio trenajorlar, Trenajorlar, Sport va hor...</td>\n",
       "      <td>PowerGym E143 elliptik trenajyori</td>\n",
       "      <td>[https://s3.smartbank.uz/market-default/produc...</td>\n",
       "      <td>[images/83880_https:__s3.smartbank.uz_market-d...</td>\n",
       "    </tr>\n",
       "    <tr>\n",
       "      <th>290</th>\n",
       "      <td>82697</td>\n",
       "      <td>PG-200 PowerGym yugurish yo'lakchasi</td>\n",
       "      <td>begovaia-dorozka-pg-200-powergym-82697</td>\n",
       "      <td>{'id': 430, 'name': 'PowerGym'}</td>\n",
       "      <td>[Kardio trenajorlar, Trenajorlar, Sport va hor...</td>\n",
       "      <td>PG-200 PowerGym yugurish yo'lakchasi</td>\n",
       "      <td>[https://s3.smartbank.uz/market-default/produc...</td>\n",
       "      <td>[images/82697_https:__s3.smartbank.uz_market-d...</td>\n",
       "    </tr>\n",
       "    <tr>\n",
       "      <th>946</th>\n",
       "      <td>82705</td>\n",
       "      <td>PowerGym PG-350MI Yugurish yo'lagi</td>\n",
       "      <td>begovaia-dorozka-powergym-pg-350mi-82705</td>\n",
       "      <td>{'id': 430, 'name': 'PowerGym'}</td>\n",
       "      <td>[Kardio trenajorlar, Trenajorlar, Sport va hor...</td>\n",
       "      <td>PowerGym PG-350MI Yugurish yo'lagi</td>\n",
       "      <td>[https://s3.smartbank.uz/market-default/produc...</td>\n",
       "      <td>[images/82705_https:__s3.smartbank.uz_market-d...</td>\n",
       "    </tr>\n",
       "    <tr>\n",
       "      <th>953</th>\n",
       "      <td>65828</td>\n",
       "      <td>Yugurish yo‘lagi General Fitness GF 2020M.</td>\n",
       "      <td>begovaia-dorozka-general-fitness-gf-2020m-65828</td>\n",
       "      <td>{'id': 1125, 'name': 'General Fitness'}</td>\n",
       "      <td>[Kardio trenajorlar, Trenajorlar, Sport va hor...</td>\n",
       "      <td>Yugurish yo‘lagi General Fitness GF 2020M.</td>\n",
       "      <td>[https://s3.smartbank.uz/market-default/produc...</td>\n",
       "      <td>[images/65828_https:__s3.smartbank.uz_market-d...</td>\n",
       "    </tr>\n",
       "    <tr>\n",
       "      <th>...</th>\n",
       "      <td>...</td>\n",
       "      <td>...</td>\n",
       "      <td>...</td>\n",
       "      <td>...</td>\n",
       "      <td>...</td>\n",
       "      <td>...</td>\n",
       "      <td>...</td>\n",
       "      <td>...</td>\n",
       "    </tr>\n",
       "    <tr>\n",
       "      <th>7795</th>\n",
       "      <td>66061</td>\n",
       "      <td>B-09 PowerGym Press uchun universal dastgoh</td>\n",
       "      <td>universalnaia-skamia-dlia-pressa-b-09-powergym...</td>\n",
       "      <td>{'id': 430, 'name': 'PowerGym'}</td>\n",
       "      <td>[Skameykalar va tokchalar, Trenajorlar, Sport ...</td>\n",
       "      <td>B-09 PowerGym Press uchun universal dastgoh</td>\n",
       "      <td>[https://s3.smartbank.uz/market-default/produc...</td>\n",
       "      <td>[images/66061_https:__s3.smartbank.uz_market-d...</td>\n",
       "    </tr>\n",
       "    <tr>\n",
       "      <th>7804</th>\n",
       "      <td>66406</td>\n",
       "      <td>Molten futbol to'pi, ko‘k</td>\n",
       "      <td>futbolnyi-miac-molten-sinii-66406</td>\n",
       "      <td>{'id': 430, 'name': 'PowerGym'}</td>\n",
       "      <td>[Futbol, Sport turlari, Sport va hordiq]</td>\n",
       "      <td>Molten futbol to'pi, ko‘k</td>\n",
       "      <td>[https://s3.smartbank.uz/market-default/produc...</td>\n",
       "      <td>[images/66406_https:__s3.smartbank.uz_market-d...</td>\n",
       "    </tr>\n",
       "    <tr>\n",
       "      <th>7862</th>\n",
       "      <td>76320</td>\n",
       "      <td>PowerGym B98 Press uchun universal dastgoh</td>\n",
       "      <td>universalnaia-skamia-dlia-pressa-b98-powergym-...</td>\n",
       "      <td>{'id': 430, 'name': 'PowerGym'}</td>\n",
       "      <td>[Skameykalar va tokchalar, Trenajorlar, Sport ...</td>\n",
       "      <td>PowerGym B98 Press uchun universal dastgoh</td>\n",
       "      <td>[https://s3.smartbank.uz/market-default/produc...</td>\n",
       "      <td>[images/76320_https:__s3.smartbank.uz_market-d...</td>\n",
       "    </tr>\n",
       "    <tr>\n",
       "      <th>7980</th>\n",
       "      <td>66401</td>\n",
       "      <td>Taekvondo KWON uchun kimono, qizil-qora</td>\n",
       "      <td>kimono-dlia-taekvondo-kwon-krasno-cernyi-66401</td>\n",
       "      <td>{'id': 430, 'name': 'PowerGym'}</td>\n",
       "      <td>[Boks va yakka kurash, Sport turlari, Sport va...</td>\n",
       "      <td>Taekvondo KWON uchun kimono, qizil-qora</td>\n",
       "      <td>[https://s3.smartbank.uz/market-default/produc...</td>\n",
       "      <td>[images/66401_https:__s3.smartbank.uz_market-d...</td>\n",
       "    </tr>\n",
       "    <tr>\n",
       "      <th>7992</th>\n",
       "      <td>78869</td>\n",
       "      <td>Xiaomi Mi Vacuum Cleaner G11 changyutgichi uch...</td>\n",
       "      <td>filtr-dlia-pylesosa-xiaomi-mi-vacuum-cleaner-g...</td>\n",
       "      <td>{'id': 21, 'name': 'Xiaomi'}</td>\n",
       "      <td>[Tozalash uchun asboblar, Basseynlar va aksess...</td>\n",
       "      <td>Xiaomi Mi Vacuum Cleaner G11 changyutgichi uch...</td>\n",
       "      <td>[https://s3.smartbank.uz/market-default/produc...</td>\n",
       "      <td>[images/78869_https:__s3.smartbank.uz_market-d...</td>\n",
       "    </tr>\n",
       "  </tbody>\n",
       "</table>\n",
       "<p>297 rows × 8 columns</p>\n",
       "</div>"
      ],
      "text/plain": [
       "         id                                               name  \\\n",
       "93    75449                          ADIDAS futbol to'pi, ko‘k   \n",
       "94    83880                  PowerGym E143 elliptik trenajyori   \n",
       "290   82697               PG-200 PowerGym yugurish yo'lakchasi   \n",
       "946   82705                 PowerGym PG-350MI Yugurish yo'lagi   \n",
       "953   65828         Yugurish yo‘lagi General Fitness GF 2020M.   \n",
       "...     ...                                                ...   \n",
       "7795  66061        B-09 PowerGym Press uchun universal dastgoh   \n",
       "7804  66406                          Molten futbol to'pi, ko‘k   \n",
       "7862  76320         PowerGym B98 Press uchun universal dastgoh   \n",
       "7980  66401            Taekvondo KWON uchun kimono, qizil-qora   \n",
       "7992  78869  Xiaomi Mi Vacuum Cleaner G11 changyutgichi uch...   \n",
       "\n",
       "                                                   slug  \\\n",
       "93                    futbolnyi-miac-adidas-sinii-75449   \n",
       "94           ellipticeskii-trenazer-powergym-e143-83880   \n",
       "290              begovaia-dorozka-pg-200-powergym-82697   \n",
       "946            begovaia-dorozka-powergym-pg-350mi-82705   \n",
       "953     begovaia-dorozka-general-fitness-gf-2020m-65828   \n",
       "...                                                 ...   \n",
       "7795  universalnaia-skamia-dlia-pressa-b-09-powergym...   \n",
       "7804                  futbolnyi-miac-molten-sinii-66406   \n",
       "7862  universalnaia-skamia-dlia-pressa-b98-powergym-...   \n",
       "7980     kimono-dlia-taekvondo-kwon-krasno-cernyi-66401   \n",
       "7992  filtr-dlia-pylesosa-xiaomi-mi-vacuum-cleaner-g...   \n",
       "\n",
       "                                        brand  \\\n",
       "93                                       None   \n",
       "94            {'id': 430, 'name': 'PowerGym'}   \n",
       "290           {'id': 430, 'name': 'PowerGym'}   \n",
       "946           {'id': 430, 'name': 'PowerGym'}   \n",
       "953   {'id': 1125, 'name': 'General Fitness'}   \n",
       "...                                       ...   \n",
       "7795          {'id': 430, 'name': 'PowerGym'}   \n",
       "7804          {'id': 430, 'name': 'PowerGym'}   \n",
       "7862          {'id': 430, 'name': 'PowerGym'}   \n",
       "7980          {'id': 430, 'name': 'PowerGym'}   \n",
       "7992             {'id': 21, 'name': 'Xiaomi'}   \n",
       "\n",
       "                                             categories  \\\n",
       "93             [Futbol, Sport turlari, Sport va hordiq]   \n",
       "94    [Kardio trenajorlar, Trenajorlar, Sport va hor...   \n",
       "290   [Kardio trenajorlar, Trenajorlar, Sport va hor...   \n",
       "946   [Kardio trenajorlar, Trenajorlar, Sport va hor...   \n",
       "953   [Kardio trenajorlar, Trenajorlar, Sport va hor...   \n",
       "...                                                 ...   \n",
       "7795  [Skameykalar va tokchalar, Trenajorlar, Sport ...   \n",
       "7804           [Futbol, Sport turlari, Sport va hordiq]   \n",
       "7862  [Skameykalar va tokchalar, Trenajorlar, Sport ...   \n",
       "7980  [Boks va yakka kurash, Sport turlari, Sport va...   \n",
       "7992  [Tozalash uchun asboblar, Basseynlar va aksess...   \n",
       "\n",
       "                                             short_name  \\\n",
       "93                            ADIDAS futbol to'pi, ko‘k   \n",
       "94                    PowerGym E143 elliptik trenajyori   \n",
       "290                PG-200 PowerGym yugurish yo'lakchasi   \n",
       "946                  PowerGym PG-350MI Yugurish yo'lagi   \n",
       "953          Yugurish yo‘lagi General Fitness GF 2020M.   \n",
       "...                                                 ...   \n",
       "7795        B-09 PowerGym Press uchun universal dastgoh   \n",
       "7804                          Molten futbol to'pi, ko‘k   \n",
       "7862         PowerGym B98 Press uchun universal dastgoh   \n",
       "7980            Taekvondo KWON uchun kimono, qizil-qora   \n",
       "7992  Xiaomi Mi Vacuum Cleaner G11 changyutgichi uch...   \n",
       "\n",
       "                                             all_images  \\\n",
       "93    [https://s3.smartbank.uz/market-default/produc...   \n",
       "94    [https://s3.smartbank.uz/market-default/produc...   \n",
       "290   [https://s3.smartbank.uz/market-default/produc...   \n",
       "946   [https://s3.smartbank.uz/market-default/produc...   \n",
       "953   [https://s3.smartbank.uz/market-default/produc...   \n",
       "...                                                 ...   \n",
       "7795  [https://s3.smartbank.uz/market-default/produc...   \n",
       "7804  [https://s3.smartbank.uz/market-default/produc...   \n",
       "7862  [https://s3.smartbank.uz/market-default/produc...   \n",
       "7980  [https://s3.smartbank.uz/market-default/produc...   \n",
       "7992  [https://s3.smartbank.uz/market-default/produc...   \n",
       "\n",
       "                                              filenames  \n",
       "93    [images/75449_https:__s3.smartbank.uz_market-d...  \n",
       "94    [images/83880_https:__s3.smartbank.uz_market-d...  \n",
       "290   [images/82697_https:__s3.smartbank.uz_market-d...  \n",
       "946   [images/82705_https:__s3.smartbank.uz_market-d...  \n",
       "953   [images/65828_https:__s3.smartbank.uz_market-d...  \n",
       "...                                                 ...  \n",
       "7795  [images/66061_https:__s3.smartbank.uz_market-d...  \n",
       "7804  [images/66406_https:__s3.smartbank.uz_market-d...  \n",
       "7862  [images/76320_https:__s3.smartbank.uz_market-d...  \n",
       "7980  [images/66401_https:__s3.smartbank.uz_market-d...  \n",
       "7992  [images/78869_https:__s3.smartbank.uz_market-d...  \n",
       "\n",
       "[297 rows x 8 columns]"
      ]
     },
     "execution_count": 17,
     "metadata": {},
     "output_type": "execute_result"
    }
   ],
   "source": [
    "df[df['categories'].apply(lambda cats: 'Sport va hordiq' in cats)]"
   ]
  },
  {
   "cell_type": "code",
   "execution_count": 1,
   "metadata": {},
   "outputs": [
    {
     "ename": "NameError",
     "evalue": "name 'all_df' is not defined",
     "output_type": "error",
     "traceback": [
      "\u001b[31m---------------------------------------------------------------------------\u001b[39m",
      "\u001b[31mNameError\u001b[39m                                 Traceback (most recent call last)",
      "\u001b[36mCell\u001b[39m\u001b[36m \u001b[39m\u001b[32mIn[1]\u001b[39m\u001b[32m, line 1\u001b[39m\n\u001b[32m----> \u001b[39m\u001b[32m1\u001b[39m \u001b[43mall_df\u001b[49m.loc[all_df[\u001b[33m'\u001b[39m\u001b[33mname_uz\u001b[39m\u001b[33m'\u001b[39m] == \u001b[33m'\u001b[39m\u001b[33mQuloqchinlar\u001b[39m\u001b[33m'\u001b[39m, \u001b[33m'\u001b[39m\u001b[33mname_en\u001b[39m\u001b[33m'\u001b[39m]\n",
      "\u001b[31mNameError\u001b[39m: name 'all_df' is not defined"
     ]
    }
   ],
   "source": [
    "all_df.loc[all_df['name_uz'] == 'Quloqchinlar', 'name_en']\n"
   ]
  },
  {
   "cell_type": "code",
   "execution_count": 21,
   "metadata": {},
   "outputs": [],
   "source": [
    "#[all_df.loc[all_df['name_uz'] == categ, 'name_en'].iat[0] for categ in categories]\n",
    "en_df = pd.DataFrame(columns=['id', 'en', 'uz'])\n",
    "for i, categs in enumerate(df['categories']):\n",
    "    for cat in categs:\n",
    "        match = all_df.loc[all_df['name_uz'] == cat, 'name_en']\n",
    "        en_df.loc[i, 'id'] = df.loc[i, 'id']\n",
    "        en_df.loc[i, 'en'] = match.iat[0] if not match.empty else 'Not Found'\n",
    "        en_df.loc[i, 'uz'] = cat"
   ]
  },
  {
   "cell_type": "code",
   "execution_count": 22,
   "metadata": {},
   "outputs": [
    {
     "data": {
      "text/plain": [
       "array([], dtype=object)"
      ]
     },
     "execution_count": 22,
     "metadata": {},
     "output_type": "execute_result"
    }
   ],
   "source": [
    "en_df[en_df['en'] == 'Not Found']['uz'].unique()"
   ]
  },
  {
   "cell_type": "code",
   "execution_count": 21,
   "metadata": {},
   "outputs": [
    {
     "name": "stdout",
     "output_type": "stream",
     "text": [
      "65348\n"
     ]
    }
   ],
   "source": [
    "for i, categs in enumerate(df['categories']):\n",
    "    print(df.loc[i, 'id'])\n",
    "    break"
   ]
  },
  {
   "cell_type": "code",
   "execution_count": null,
   "metadata": {},
   "outputs": [],
   "source": []
  },
  {
   "cell_type": "code",
   "execution_count": 9,
   "metadata": {},
   "outputs": [],
   "source": [
    "from qdrant_client import QdrantClient\n",
    "\n",
    "client = QdrantClient(host=\"localhost\", port=6333)\n",
    "\n",
    "collection_name = \"smartbazar_products\"\n",
    "\n",
    "if client.collection_exists(collection_name=collection_name):\n",
    "    client.delete_collection(collection_name=collection_name)"
   ]
  },
  {
   "cell_type": "code",
   "execution_count": 3,
   "metadata": {},
   "outputs": [
    {
     "name": "stderr",
     "output_type": "stream",
     "text": [
      "/home/aslonhamidov/.conda/envs/img_train/lib/python3.11/site-packages/tqdm/auto.py:21: TqdmWarning: IProgress not found. Please update jupyter and ipywidgets. See https://ipywidgets.readthedocs.io/en/stable/user_install.html\n",
      "  from .autonotebook import tqdm as notebook_tqdm\n",
      "Embedding images:   9%|▉         | 715/8000 [01:03<11:25, 10.62it/s]  "
     ]
    },
    {
     "name": "stdout",
     "output_type": "stream",
     "text": [
      "Error processing images/62805_https:__s3.smartbank.uz_market-default_products_secondary_images_desktop_ZXeD3nGkLy9W0fPHSHECYGdQBpFS46.webp: [Errno 2] No such file or directory: 'images/62805_https:__s3.smartbank.uz_market-default_products_secondary_images_desktop_ZXeD3nGkLy9W0fPHSHECYGdQBpFS46.webp'\n",
      "Error processing images/62805_https:__s3.smartbank.uz_market-default_products_secondary_images_mobile_ZXeD3nGkLy9W0fPHSHECYGdQBpFS46.webp: [Errno 2] No such file or directory: 'images/62805_https:__s3.smartbank.uz_market-default_products_secondary_images_mobile_ZXeD3nGkLy9W0fPHSHECYGdQBpFS46.webp'\n"
     ]
    },
    {
     "name": "stderr",
     "output_type": "stream",
     "text": [
      "Embedding images:  11%|█         | 895/8000 [01:20<11:26, 10.35it/s]"
     ]
    },
    {
     "name": "stdout",
     "output_type": "stream",
     "text": [
      "Error processing images/66608_https:__s3.smartbank.uz_market-default_products_secondary_images_mobile_KEUvdnprTroWu2T2SR5MZrSDBV5JCA.webp: [Errno 2] No such file or directory: 'images/66608_https:__s3.smartbank.uz_market-default_products_secondary_images_mobile_KEUvdnprTroWu2T2SR5MZrSDBV5JCA.webp'\n",
      "Error processing images/66608_https:__s3.smartbank.uz_market-default_products_secondary_images_desktop_KEUvdnprTroWu2T2SR5MZrSDBV5JCA.webp: [Errno 2] No such file or directory: 'images/66608_https:__s3.smartbank.uz_market-default_products_secondary_images_desktop_KEUvdnprTroWu2T2SR5MZrSDBV5JCA.webp'\n"
     ]
    },
    {
     "name": "stderr",
     "output_type": "stream",
     "text": [
      "Embedding images:  13%|█▎        | 1039/8000 [01:31<16:11,  7.17it/s]"
     ]
    },
    {
     "name": "stdout",
     "output_type": "stream",
     "text": [
      "Error processing images/62807_https:__s3.smartbank.uz_market-default_products_secondary_images_desktop_0HRIObm6bZDIjMiA7plKQAtVWvdDUi.webp: [Errno 2] No such file or directory: 'images/62807_https:__s3.smartbank.uz_market-default_products_secondary_images_desktop_0HRIObm6bZDIjMiA7plKQAtVWvdDUi.webp'\n",
      "Error processing images/62807_https:__s3.smartbank.uz_market-default_products_secondary_images_mobile_0HRIObm6bZDIjMiA7plKQAtVWvdDUi.webp: [Errno 2] No such file or directory: 'images/62807_https:__s3.smartbank.uz_market-default_products_secondary_images_mobile_0HRIObm6bZDIjMiA7plKQAtVWvdDUi.webp'\n"
     ]
    },
    {
     "name": "stderr",
     "output_type": "stream",
     "text": [
      "Embedding images:  14%|█▍        | 1148/8000 [01:40<08:57, 12.75it/s]"
     ]
    },
    {
     "name": "stdout",
     "output_type": "stream",
     "text": [
      "Error processing images/77872_https:__s3.smartbank.uz_market-default_products_secondary_images_desktop_GIvMPLZEMZ9IkNgOhYAuxF1H0uXAkh.webp: [Errno 2] No such file or directory: 'images/77872_https:__s3.smartbank.uz_market-default_products_secondary_images_desktop_GIvMPLZEMZ9IkNgOhYAuxF1H0uXAkh.webp'\n",
      "Error processing images/77872_https:__s3.smartbank.uz_market-default_products_secondary_images_mobile_GIvMPLZEMZ9IkNgOhYAuxF1H0uXAkh.webp: [Errno 2] No such file or directory: 'images/77872_https:__s3.smartbank.uz_market-default_products_secondary_images_mobile_GIvMPLZEMZ9IkNgOhYAuxF1H0uXAkh.webp'\n"
     ]
    },
    {
     "name": "stderr",
     "output_type": "stream",
     "text": [
      "Embedding images:  21%|██        | 1671/8000 [02:17<08:38, 12.20it/s]"
     ]
    },
    {
     "name": "stdout",
     "output_type": "stream",
     "text": [
      "Error processing images/62816_https:__s3.smartbank.uz_market-default_products_secondary_images_mobile_SJGPU2qY0yEOzKHnhEE611b5Bx5B9q.webp: [Errno 2] No such file or directory: 'images/62816_https:__s3.smartbank.uz_market-default_products_secondary_images_mobile_SJGPU2qY0yEOzKHnhEE611b5Bx5B9q.webp'\n",
      "Error processing images/62816_https:__s3.smartbank.uz_market-default_products_secondary_images_desktop_SJGPU2qY0yEOzKHnhEE611b5Bx5B9q.webp: [Errno 2] No such file or directory: 'images/62816_https:__s3.smartbank.uz_market-default_products_secondary_images_desktop_SJGPU2qY0yEOzKHnhEE611b5Bx5B9q.webp'\n"
     ]
    },
    {
     "name": "stderr",
     "output_type": "stream",
     "text": [
      "Embedding images:  32%|███▏      | 2592/8000 [03:20<05:39, 15.95it/s]"
     ]
    },
    {
     "name": "stdout",
     "output_type": "stream",
     "text": [
      "Error processing images/62821_https:__s3.smartbank.uz_market-default_products_secondary_images_mobile_Q9WAsPIAMfIzFemgZOLBiFHB1td6SF.webp: [Errno 2] No such file or directory: 'images/62821_https:__s3.smartbank.uz_market-default_products_secondary_images_mobile_Q9WAsPIAMfIzFemgZOLBiFHB1td6SF.webp'\n",
      "Error processing images/62821_https:__s3.smartbank.uz_market-default_products_secondary_images_desktop_Q9WAsPIAMfIzFemgZOLBiFHB1td6SF.webp: [Errno 2] No such file or directory: 'images/62821_https:__s3.smartbank.uz_market-default_products_secondary_images_desktop_Q9WAsPIAMfIzFemgZOLBiFHB1td6SF.webp'\n"
     ]
    },
    {
     "name": "stderr",
     "output_type": "stream",
     "text": [
      "Embedding images:  48%|████▊     | 3806/8000 [04:50<03:13, 21.66it/s]"
     ]
    },
    {
     "name": "stdout",
     "output_type": "stream",
     "text": [
      "Error processing images/69892_https:__s3.smartbank.uz_market-default_products_secondary_images_mobile_RIGAheGw9ggRfBGcQnAmVdqVbFFQwC.webp: [Errno 2] No such file or directory: 'images/69892_https:__s3.smartbank.uz_market-default_products_secondary_images_mobile_RIGAheGw9ggRfBGcQnAmVdqVbFFQwC.webp'\n",
      "Error processing images/69892_https:__s3.smartbank.uz_market-default_products_secondary_images_desktop_RIGAheGw9ggRfBGcQnAmVdqVbFFQwC.webp: [Errno 2] No such file or directory: 'images/69892_https:__s3.smartbank.uz_market-default_products_secondary_images_desktop_RIGAheGw9ggRfBGcQnAmVdqVbFFQwC.webp'\n"
     ]
    },
    {
     "name": "stderr",
     "output_type": "stream",
     "text": [
      "Embedding images:  58%|█████▊    | 4622/8000 [05:58<03:55, 14.34it/s]"
     ]
    },
    {
     "name": "stdout",
     "output_type": "stream",
     "text": [
      "Error processing images/62820_https:__s3.smartbank.uz_market-default_products_secondary_images_mobile_0PsyAxoV6ahVYooF2slSoWHuwlDGGG.webp: [Errno 2] No such file or directory: 'images/62820_https:__s3.smartbank.uz_market-default_products_secondary_images_mobile_0PsyAxoV6ahVYooF2slSoWHuwlDGGG.webp'\n",
      "Error processing images/62820_https:__s3.smartbank.uz_market-default_products_secondary_images_desktop_0PsyAxoV6ahVYooF2slSoWHuwlDGGG.webp: [Errno 2] No such file or directory: 'images/62820_https:__s3.smartbank.uz_market-default_products_secondary_images_desktop_0PsyAxoV6ahVYooF2slSoWHuwlDGGG.webp'\n"
     ]
    },
    {
     "name": "stderr",
     "output_type": "stream",
     "text": [
      "Embedding images:  62%|██████▏   | 4942/8000 [06:21<02:49, 18.04it/s]"
     ]
    },
    {
     "name": "stdout",
     "output_type": "stream",
     "text": [
      "Error processing images/62832_https:__s3.smartbank.uz_market-default_products_secondary_images_mobile_S9h9EDz0m5GdXowvJvml6gnh1duAQx.webp: [Errno 2] No such file or directory: 'images/62832_https:__s3.smartbank.uz_market-default_products_secondary_images_mobile_S9h9EDz0m5GdXowvJvml6gnh1duAQx.webp'\n",
      "Error processing images/62832_https:__s3.smartbank.uz_market-default_products_secondary_images_desktop_S9h9EDz0m5GdXowvJvml6gnh1duAQx.webp: [Errno 2] No such file or directory: 'images/62832_https:__s3.smartbank.uz_market-default_products_secondary_images_desktop_S9h9EDz0m5GdXowvJvml6gnh1duAQx.webp'\n"
     ]
    },
    {
     "name": "stderr",
     "output_type": "stream",
     "text": [
      "Embedding images:  68%|██████▊   | 5459/8000 [07:01<03:47, 11.18it/s]"
     ]
    },
    {
     "name": "stdout",
     "output_type": "stream",
     "text": [
      "Error processing images/62811_https:__s3.smartbank.uz_market-default_products_secondary_images_mobile_WPU0pAKgfiNjHsOZJKLTapaudAxjom.webp: [Errno 2] No such file or directory: 'images/62811_https:__s3.smartbank.uz_market-default_products_secondary_images_mobile_WPU0pAKgfiNjHsOZJKLTapaudAxjom.webp'\n",
      "Error processing images/62811_https:__s3.smartbank.uz_market-default_products_secondary_images_desktop_WPU0pAKgfiNjHsOZJKLTapaudAxjom.webp: [Errno 2] No such file or directory: 'images/62811_https:__s3.smartbank.uz_market-default_products_secondary_images_desktop_WPU0pAKgfiNjHsOZJKLTapaudAxjom.webp'\n"
     ]
    },
    {
     "name": "stderr",
     "output_type": "stream",
     "text": [
      "Embedding images:  78%|███████▊  | 6202/8000 [08:05<02:35, 11.58it/s]/home/aslonhamidov/.conda/envs/img_train/lib/python3.11/site-packages/PIL/Image.py:1043: UserWarning: Palette images with Transparency expressed in bytes should be converted to RGBA images\n",
      "  warnings.warn(\n",
      "Embedding images: 100%|██████████| 8000/8000 [10:35<00:00, 12.58it/s]\n"
     ]
    }
   ],
   "source": [
    "import json\n",
    "import torch\n",
    "from PIL import Image\n",
    "import open_clip\n",
    "import pandas as pd\n",
    "from tqdm import tqdm\n",
    "\n",
    "# Load model\n",
    "device = \"cuda\" if torch.cuda.is_available() else \"cpu\"\n",
    "model, _, preprocess = open_clip.create_model_and_transforms('ViT-B-32-quickgelu', pretrained='openai')\n",
    "model = model.to(device)\n",
    "\n",
    "# Load metadata\n",
    "all_df = pd.read_csv('ImageClassificator/all.csv')\n",
    "df = pd.read_json(\"processed_with_filenames.json\", lines=True)\n",
    "\n",
    "qdrant_points = []\n",
    "point_id = 0\n",
    "\n",
    "def safe_get_id(name_uz):\n",
    "    matches = all_df.loc[all_df['name_uz'] == name_uz, 'id']\n",
    "    return int(matches.iat[0]) if not matches.empty else None\n",
    "\n",
    "def safe_get_en(name_uz):\n",
    "    matches = all_df.loc[all_df['name_uz'] == name_uz, 'name_en']\n",
    "    return matches.iat[0] if not matches.empty else None\n",
    "\n",
    "\n",
    "for row in tqdm(df.itertuples(), total=len(df), desc=\"Embedding images\"):\n",
    "    for path in row.filenames:  # handle multiple paths\n",
    "        try:\n",
    "            image = preprocess(Image.open(path).convert(\"RGB\")).unsqueeze(0).to(device)\n",
    "            with torch.no_grad():\n",
    "                embedding = model.encode_image(image).squeeze(0)\n",
    "                embedding = embedding / embedding.norm()\n",
    "\n",
    "            category_ids = [safe_get_id(c) for c in row.categories]\n",
    "            category_ids = [c for c in category_ids if c is not None]\n",
    "\n",
    "            category_names = [safe_get_en(c) for c in row.categories]\n",
    "            category_names = [c for c in category_names if c is not None]\n",
    "\n",
    "            if not category_ids or not category_names:\n",
    "                continue  # Skip this entry if no valid category\n",
    "\n",
    "            qdrant_points.append({\n",
    "                \"id\": point_id,\n",
    "                \"vector\": embedding.tolist(),\n",
    "                \"payload\": {\n",
    "                    \"image_path\": path,\n",
    "                    \"product_name\": row.name,\n",
    "                    \"category_ids\": category_ids,\n",
    "                    \"categories\": category_names,\n",
    "                    \"brand\": row.brand\n",
    "                }\n",
    "            })\n",
    "            point_id += 1\n",
    "\n",
    "        except Exception as e:\n",
    "            print(f\"Error processing {path}: {e}\")\n",
    "\n",
    "# Save Qdrant-ready JSON\n",
    "with open(\"qdrant_points_en.json\", \"w\") as f:\n",
    "    json.dump(qdrant_points, f, indent=2)"
   ]
  },
  {
   "cell_type": "code",
   "execution_count": null,
   "metadata": {},
   "outputs": [],
   "source": []
  },
  {
   "cell_type": "code",
   "execution_count": null,
   "metadata": {},
   "outputs": [],
   "source": []
  },
  {
   "cell_type": "code",
   "execution_count": 5,
   "metadata": {},
   "outputs": [
    {
     "data": {
      "text/plain": [
       "61532"
      ]
     },
     "execution_count": 5,
     "metadata": {},
     "output_type": "execute_result"
    }
   ],
   "source": [
    "len(qdrant_points)"
   ]
  },
  {
   "cell_type": "code",
   "execution_count": 27,
   "metadata": {},
   "outputs": [
    {
     "name": "stderr",
     "output_type": "stream",
     "text": [
      "/tmp/ipykernel_1374531/4033854257.py:9: DeprecationWarning: `recreate_collection` method is deprecated and will be removed in the future. Use `collection_exists` to check collection existence and `create_collection` instead.\n",
      "  client.recreate_collection(\n"
     ]
    },
    {
     "data": {
      "text/plain": [
       "True"
      ]
     },
     "execution_count": 27,
     "metadata": {},
     "output_type": "execute_result"
    }
   ],
   "source": [
    "from qdrant_client import QdrantClient\n",
    "from qdrant_client.models import VectorParams, Distance\n",
    "\n",
    "client = QdrantClient(host=\"localhost\", port=6333)\n",
    "\n",
    "# Define vector size — must match your embedding dimension (e.g., 512 for CLIP ViT-B/32)\n",
    "VECTOR_SIZE = 512\n",
    "\n",
    "client.recreate_collection(\n",
    "    collection_name=\"smartbazar_products\",\n",
    "    vectors_config=VectorParams(size=VECTOR_SIZE, distance=Distance.COSINE)\n",
    ")\n"
   ]
  },
  {
   "cell_type": "code",
   "execution_count": 28,
   "metadata": {},
   "outputs": [
    {
     "name": "stderr",
     "output_type": "stream",
     "text": [
      "Uploading to Qdrant: 100%|██████████| 616/616 [00:17<00:00, 35.78it/s]\n"
     ]
    }
   ],
   "source": [
    "from qdrant_client import QdrantClient\n",
    "from qdrant_client.models import PointStruct\n",
    "import json\n",
    "from tqdm import tqdm\n",
    "\n",
    "# Connect to Qdrant\n",
    "client = QdrantClient(host=\"localhost\", port=6333)\n",
    "\n",
    "# Load points\n",
    "with open(\"../qdrant_points_en.json\") as f:\n",
    "    raw_points = json.load(f)\n",
    "\n",
    "points = [PointStruct(**pt) for pt in raw_points]\n",
    "\n",
    "# Batch upsert\n",
    "BATCH_SIZE = 100  # You can adjust this (100–500 is safe)\n",
    "\n",
    "for i in tqdm(range(0, len(points), BATCH_SIZE), desc=\"Uploading to Qdrant\"):\n",
    "    batch = points[i:i + BATCH_SIZE]\n",
    "    client.upsert(\n",
    "        collection_name=\"smartbazar_products\",\n",
    "        points=batch\n",
    "    )\n"
   ]
  },
  {
   "cell_type": "code",
   "execution_count": 39,
   "metadata": {},
   "outputs": [
    {
     "name": "stdout",
     "output_type": "stream",
     "text": [
      "\u001b[2m2025-06-24T12:10:43.648378Z\u001b[0m [\u001b[32m\u001b[1minfo     \u001b[0m] \u001b[1mLoaded ViT-B-32-quickgelu model config.\u001b[0m\n"
     ]
    },
    {
     "name": "stdout",
     "output_type": "stream",
     "text": [
      "\u001b[2m2025-06-24T12:10:44.467922Z\u001b[0m [\u001b[32m\u001b[1minfo     \u001b[0m] \u001b[1mLoading pretrained ViT-B-32-quickgelu weights (openai).\u001b[0m\n",
      "Score: 0.8617 — Product: Samsung Galaxy A14 4/128GB Yashil Smartfoni, Categs: ['Smartphones', 'Smartphones and phones', 'Electronics']\n",
      "Score: 0.8500 — Product: Nexia 1 avtomobili uchun qora nikel ostona to'shamalari, Categs: ['Tuning and exterior decoration', 'Accessories and equipment', 'Automotive products']\n",
      "Score: 0.8500 — Product: Nexia 3 avtomobili uchun qora nikel ostona to'shamalari, Categs: ['Tuning and exterior decoration', 'Accessories and equipment', 'Automotive products']\n",
      "Score: 0.8397 — Product: Vivo Y33s 4/128 GB Black mirror Smartfoni, Categs: ['Smartphones', 'Smartphones and phones', 'Electronics']\n",
      "Score: 0.8395 — Product: Tecno  POP 6 Pro 2/32 GB Blue smartfoni, Categs: ['Smartphones', 'Smartphones and phones', 'Electronics']\n",
      "Score: 0.8334 — Product: Nexia 3 avtomobili uchun qora nikel ostona to'shamalari, Categs: ['Tuning and exterior decoration', 'Accessories and equipment', 'Automotive products']\n",
      "Score: 0.8334 — Product: Nexia 1 avtomobili uchun qora nikel ostona to'shamalari, Categs: ['Tuning and exterior decoration', 'Accessories and equipment', 'Automotive products']\n",
      "Score: 0.8322 — Product: Samsung Galaxy S20FE (Fan Edition) 128GB Blue Smartfoni, Categs: ['Smartphones', 'Smartphones and phones', 'Electronics']\n",
      "Score: 0.8297 — Product: Samsung Galaxy Z Flip 5 8/256GB Och yashil Smartfoni, Categs: ['Smartphones', 'Smartphones and phones', 'Electronics']\n",
      "Score: 0.8295 — Product: Samsung Galaxy Z Flip 5 8/256 GB Binafsharang Smartfoni, Categs: ['Smartphones', 'Smartphones and phones', 'Electronics']\n"
     ]
    }
   ],
   "source": [
    "# SIMILARITY SEARCH\n",
    "from PIL import Image\n",
    "import open_clip\n",
    "import torch\n",
    "from qdrant_client import QdrantClient\n",
    "\n",
    "\n",
    "client = QdrantClient(host=\"localhost\", port=6333)\n",
    "# Load the model again (if not already in memory)\n",
    "device = \"cuda\" if torch.cuda.is_available() else \"cpu\"\n",
    "model, _, preprocess = open_clip.create_model_and_transforms('ViT-B-32-quickgelu', pretrained='openai')\n",
    "model = model.to(device)\n",
    "\n",
    "# Load and encode a new image\n",
    "img_path = '/home/aslonhamidov/Desktop/work/image_dataset/SimilaritySearch/test_imgs/iphone.JPG'\n",
    "query_image = preprocess(Image.open(img_path).convert(\"RGB\")).unsqueeze(0).to(device)\n",
    "with torch.no_grad():\n",
    "    query_vector = model.encode_image(query_image).squeeze(0)\n",
    "    query_vector = query_vector / query_vector.norm()\n",
    "\n",
    "# Search in Qdrant\n",
    "hits = client.query_points(\n",
    "    collection_name=\"smartbazar_products\",\n",
    "    query=query_vector.tolist(),\n",
    "    limit=10  # top 5 results\n",
    ")\n",
    "\n",
    "for hit in hits.points:\n",
    "    print(f\"Score: {hit.score:.4f} — Product: {hit.payload['product_name']}, Categs: {hit.payload['categories']}\")\n"
   ]
  },
  {
   "cell_type": "code",
   "execution_count": 34,
   "metadata": {},
   "outputs": [
    {
     "data": {
      "text/plain": [
       "QueryResponse(points=[ScoredPoint(id=43202, version=432, score=0.8616704, payload={'image_path': 'images/63470_https:__s3.smartbank.uz_market-default_products_secondary_images_desktop_eSB7ZsWOtwYepHwuNeHwmfCCkXCzc5.webp', 'product_name': 'Samsung Galaxy A14 4/128GB Yashil Smartfoni', 'category_ids': [5499, 5473, 5243], 'categories': ['Smartphones', 'Smartphones and phones', 'Electronics'], 'brand': {'id': 16, 'name': 'Samsung'}}, vector=None, shard_key=None, order_value=None), ScoredPoint(id=43252, version=432, score=0.84999835, payload={'image_path': 'images/81448_https:__s3.smartbank.uz_market-default_products_secondary_images_desktop_KnCRJA4G29yOZWeFOsvNpTCAxufw1l.webp', 'product_name': \"Nexia 1 avtomobili uchun qora nikel ostona to'shamalari\", 'category_ids': [7926, 7897, 7823], 'categories': ['Tuning and exterior decoration', 'Accessories and equipment', 'Automotive products'], 'brand': None}, vector=None, shard_key=None, order_value=None), ScoredPoint(id=34586, version=345, score=0.84999835, payload={'image_path': 'images/81453_https:__s3.smartbank.uz_market-default_products_secondary_images_desktop_75gn9r1fvrlnx2261KuY2XFG38s85F.webp', 'product_name': \"Nexia 3 avtomobili uchun qora nikel ostona to'shamalari\", 'category_ids': [7926, 7897, 7823], 'categories': ['Tuning and exterior decoration', 'Accessories and equipment', 'Automotive products'], 'brand': None}, vector=None, shard_key=None, order_value=None), ScoredPoint(id=5970, version=59, score=0.83973885, payload={'image_path': 'images/71868_https:__s3.smartbank.uz_market-default_products_secondary_images_desktop_bThyDscoUdSDzRwIroyqIB9bbNy1Io.webp', 'product_name': 'Vivo Y33s 4/128 GB Black mirror Smartfoni', 'category_ids': [5499, 5473, 5243], 'categories': ['Smartphones', 'Smartphones and phones', 'Electronics'], 'brand': {'id': 25, 'name': 'Vivo'}}, vector=None, shard_key=None, order_value=None), ScoredPoint(id=19602, version=196, score=0.83945155, payload={'image_path': 'images/68712_https:__s3.smartbank.uz_market-default_products_secondary_images_desktop_9uT2QRqgi2KpYIPBAq5PKColfOFdJQ.webp', 'product_name': 'Tecno  POP 6 Pro 2/32 GB Blue smartfoni', 'category_ids': [5499, 5473, 5243], 'categories': ['Smartphones', 'Smartphones and phones', 'Electronics'], 'brand': {'id': 355, 'name': 'Tecno Mobile'}}, vector=None, shard_key=None, order_value=None), ScoredPoint(id=34591, version=345, score=0.83335805, payload={'image_path': 'images/81453_https:__s3.smartbank.uz_market-default_products_secondary_images_mobile_75gn9r1fvrlnx2261KuY2XFG38s85F.webp', 'product_name': \"Nexia 3 avtomobili uchun qora nikel ostona to'shamalari\", 'category_ids': [7926, 7897, 7823], 'categories': ['Tuning and exterior decoration', 'Accessories and equipment', 'Automotive products'], 'brand': None}, vector=None, shard_key=None, order_value=None), ScoredPoint(id=43248, version=432, score=0.83335805, payload={'image_path': 'images/81448_https:__s3.smartbank.uz_market-default_products_secondary_images_mobile_KnCRJA4G29yOZWeFOsvNpTCAxufw1l.webp', 'product_name': \"Nexia 1 avtomobili uchun qora nikel ostona to'shamalari\", 'category_ids': [7926, 7897, 7823], 'categories': ['Tuning and exterior decoration', 'Accessories and equipment', 'Automotive products'], 'brand': None}, vector=None, shard_key=None, order_value=None), ScoredPoint(id=3347, version=33, score=0.83224094, payload={'image_path': 'images/66937_https:__s3.smartbank.uz_market-default_products_secondary_images_desktop_hi3IaodPGpWX4shTG79cflVG5Wzt0t.webp', 'product_name': 'Samsung Galaxy S20FE (Fan Edition) 128GB Blue Smartfoni', 'category_ids': [5499, 5473, 5243], 'categories': ['Smartphones', 'Smartphones and phones', 'Electronics'], 'brand': {'id': 16, 'name': 'Samsung'}}, vector=None, shard_key=None, order_value=None), ScoredPoint(id=3914, version=39, score=0.8297225, payload={'image_path': 'images/83268_https:__s3.smartbank.uz_market-default_products_secondary_images_desktop_Qx9LnjjsfIi0eZfB8o1EgYMc88dWro.webp', 'product_name': 'Samsung Galaxy Z Flip 5 8/256GB Och yashil Smartfoni', 'category_ids': [5499, 5473, 5243], 'categories': ['Smartphones', 'Smartphones and phones', 'Electronics'], 'brand': {'id': 16, 'name': 'Samsung'}}, vector=None, shard_key=None, order_value=None), ScoredPoint(id=19589, version=195, score=0.82948714, payload={'image_path': 'images/83231_https:__s3.smartbank.uz_market-default_products_secondary_images_desktop_sLYJaTbqAJEiJl2fECuclMS3dwzyC4.webp', 'product_name': 'Samsung Galaxy Z Flip 5 8/256 GB Binafsharang Smartfoni', 'category_ids': [5499, 5473, 5243], 'categories': ['Smartphones', 'Smartphones and phones', 'Electronics'], 'brand': {'id': 16, 'name': 'Samsung'}}, vector=None, shard_key=None, order_value=None)])"
      ]
     },
     "execution_count": 34,
     "metadata": {},
     "output_type": "execute_result"
    }
   ],
   "source": [
    "hits"
   ]
  },
  {
   "cell_type": "code",
   "execution_count": 41,
   "metadata": {},
   "outputs": [
    {
     "name": "stdout",
     "output_type": "stream",
     "text": [
      "\u001b[2m2025-06-24T12:11:40.603378Z\u001b[0m [\u001b[32m\u001b[1minfo     \u001b[0m] \u001b[1mUsing device: cuda            \u001b[0m\n",
      "\u001b[2m2025-06-24T12:11:40.603920Z\u001b[0m [\u001b[32m\u001b[1minfo     \u001b[0m] \u001b[1mLoaded ViT-B-32-quickgelu model config.\u001b[0m\n",
      "\u001b[2m2025-06-24T12:11:41.352837Z\u001b[0m [\u001b[32m\u001b[1minfo     \u001b[0m] \u001b[1mLoading pretrained ViT-B-32-quickgelu weights (openai).\u001b[0m\n",
      "\u001b[2m2025-06-24T12:11:41.518244Z\u001b[0m [\u001b[32m\u001b[1minfo     \u001b[0m] \u001b[1mLoaded CLIP model: None       \u001b[0m\n",
      "\u001b[2m2025-06-24T12:11:41.518928Z\u001b[0m [\u001b[32m\u001b[1minfo     \u001b[0m] \u001b[1mLoading classes from all.csv  \u001b[0m\n",
      "\u001b[2m2025-06-24T12:11:41.525471Z\u001b[0m [\u001b[32m\u001b[1minfo     \u001b[0m] \u001b[1mLoaded 1592 classes           \u001b[0m\n",
      "\u001b[2m2025-06-24T12:11:41.526358Z\u001b[0m [\u001b[32m\u001b[1minfo     \u001b[0m] \u001b[1mLoaded existing usage.csv with 0 records\u001b[0m\n",
      "\u001b[2m2025-06-24T12:11:41.532637Z\u001b[0m [\u001b[32m\u001b[1minfo     \u001b[0m] \u001b[1mLoaded ViT-B-32-quickgelu model config.\u001b[0m\n",
      "\u001b[2m2025-06-24T12:11:42.288776Z\u001b[0m [\u001b[32m\u001b[1minfo     \u001b[0m] \u001b[1mLoading pretrained ViT-B-32-quickgelu weights (openai).\u001b[0m\n",
      "\u001b[2m2025-06-24T12:11:42.494759Z\u001b[0m [\u001b[32m\u001b[1minfo     \u001b[0m] \u001b[1mMaking prediction for /home/aslonhamidov/Desktop/work/image_dataset/SimilaritySearch/test_imgs/iphone.JPG\u001b[0m\n",
      "\u001b[2m2025-06-24T12:11:43.556332Z\u001b[0m [\u001b[32m\u001b[1minfo     \u001b[0m] \u001b[1mPrediction complete, found top 3 matches\u001b[0m\n",
      "Score: 0.8617, Category: ['Smartphones', 'Smartphones and phones', 'Electronics'], Name: Samsung Galaxy A14 4/128GB Yashil Smartfoni\n",
      "Score: 0.8397, Category: ['Smartphones', 'Smartphones and phones', 'Electronics'], Name: Vivo Y33s 4/128 GB Black mirror Smartfoni\n",
      "Score: 0.8395, Category: ['Smartphones', 'Smartphones and phones', 'Electronics'], Name: Tecno  POP 6 Pro 2/32 GB Blue smartfoni\n",
      "Score: 0.8322, Category: ['Smartphones', 'Smartphones and phones', 'Electronics'], Name: Samsung Galaxy S20FE (Fan Edition) 128GB Blue Smartfoni\n",
      "Score: 0.8297, Category: ['Smartphones', 'Smartphones and phones', 'Electronics'], Name: Samsung Galaxy Z Flip 5 8/256GB Och yashil Smartfoni\n"
     ]
    }
   ],
   "source": [
    "from qdrant_client.models import Filter, FieldCondition, MatchAny, SearchParams\n",
    "from qdrant_client import QdrantClient\n",
    "from PIL import Image\n",
    "import open_clip\n",
    "import torch\n",
    "from classification import ImageClassifier\n",
    "\n",
    "classifier = ImageClassifier()\n",
    "\n",
    "\n",
    "# Load the model again (if not already in memory)\n",
    "device = \"cuda\" if torch.cuda.is_available() else \"cpu\"\n",
    "model, _, preprocess = open_clip.create_model_and_transforms('ViT-B-32-quickgelu', pretrained='openai')\n",
    "model = model.to(device)\n",
    "client = QdrantClient(host=\"localhost\", port=6333)\n",
    "# Load and encode a new image\n",
    "img_path = '/home/aslonhamidov/Desktop/work/image_dataset/SimilaritySearch/test_imgs/iphone.JPG'\n",
    "query_image = preprocess(Image.open(img_path).convert(\"RGB\")).unsqueeze(0).to(device)\n",
    "with torch.no_grad():\n",
    "    query_vector = model.encode_image(query_image).squeeze(0)\n",
    "    query_vector = query_vector / query_vector.norm()\n",
    "\n",
    "# Create a filter: payload.categories contains any of the top categories\n",
    "#top_categories = ['Krujkalar, stakanlar va bokallar', 'Termoslar va termo krujkalar']\n",
    "top_categories = classifier.get_top_categories(img_path)\n",
    "\n",
    "category_filter = Filter(\n",
    "    must=[\n",
    "        FieldCondition(\n",
    "            key=\"categories\",\n",
    "            match=MatchAny(any=top_categories)\n",
    "        )\n",
    "    ]\n",
    ")\n",
    "\n",
    "# Perform the search with a filter\n",
    "results = client.query_points(\n",
    "    collection_name=\"smartbazar_products\",\n",
    "    query=query_vector.tolist(),\n",
    "    limit=5,\n",
    "    query_filter=category_filter,\n",
    "    search_params=SearchParams(hnsw_ef=128)  # optional tuning\n",
    ")\n",
    "\n",
    "# Show results\n",
    "for hit in results.points:\n",
    "    print(f\"Score: {hit.score:.4f}, Category: {hit.payload['categories']}, Name: {hit.payload['product_name']}\")\n"
   ]
  },
  {
   "cell_type": "code",
   "execution_count": 11,
   "metadata": {},
   "outputs": [],
   "source": [
    "for hit in results:\n",
    "    print(f\"Score: {hit.score:.4f}, Category: {hit.payload['categories']}, Name: {hit.payload['product_name']}\")"
   ]
  },
  {
   "cell_type": "code",
   "execution_count": 14,
   "metadata": {},
   "outputs": [
    {
     "name": "stdout",
     "output_type": "stream",
     "text": [
      "Top Categories: ['GPS trackers and GPS beacons', 'USB speaker', 'Magnets for whiteboard']\n",
      "Example stored payload: {'image_path': 'images/65348_https:__s3.smartbank.uz_market-default_products_secondary_images_mobile_Lq27fxZ3df0kyGYsYmNjJ9AlUjU6ke.webp', 'product_name': 'Wanli S-1015 (165/70R14) avtomobil shinasi', 'category_ids': [8093, 7823], 'categories': ['Tires and wheels', 'Automotive products'], 'brand': {'id': 1163, 'name': 'Wanli'}}\n"
     ]
    }
   ],
   "source": [
    "print(\"Top Categories:\", top_categories)\n",
    "print(\"Example stored payload:\", client.scroll(collection_name=\"smartbazar_products\", limit=1)[0][0].payload)\n"
   ]
  },
  {
   "cell_type": "code",
   "execution_count": 24,
   "metadata": {},
   "outputs": [
    {
     "name": "stdout",
     "output_type": "stream",
     "text": [
      "Query vector dim: 512\n"
     ]
    },
    {
     "data": {
      "text/plain": [
       "([Record(id=0, payload={'image_path': 'images/65348_https:__s3.smartbank.uz_market-default_products_secondary_images_mobile_Lq27fxZ3df0kyGYsYmNjJ9AlUjU6ke.webp', 'product_name': 'Wanli S-1015 (165/70R14) avtomobil shinasi', 'category_ids': [8093, 7823], 'categories': ['Tires and wheels', 'Automotive products'], 'brand': {'id': 1163, 'name': 'Wanli'}}, vector=None, shard_key=None, order_value=None)],\n",
       " 1)"
      ]
     },
     "execution_count": 24,
     "metadata": {},
     "output_type": "execute_result"
    }
   ],
   "source": [
    "print(\"Query vector dim:\", len(query_vector.tolist()))\n",
    "client.scroll(\"smartbazar_products\", limit=1)\n",
    "\n"
   ]
  },
  {
   "cell_type": "code",
   "execution_count": 25,
   "metadata": {},
   "outputs": [
    {
     "name": "stdout",
     "output_type": "stream",
     "text": [
      "Total points in collection: 61532\n"
     ]
    }
   ],
   "source": [
    "print(\"Total points in collection:\", client.count(\"smartbazar_products\", exact=True).count)\n"
   ]
  },
  {
   "cell_type": "code",
   "execution_count": 30,
   "metadata": {},
   "outputs": [
    {
     "name": "stdout",
     "output_type": "stream",
     "text": [
      "Vector: [-0.007487659, 0.007800154, 0.0548703, 0.02376414, -0.030463422, -0.040873803, -0.0073901517, 0.02594469, 0.01296928, 0.0049184654, 0.06006121, 0.035781138, 0.0690861, -0.034177937, 0.024924697, 0.0034603372, 0.11358372, 0.0035934742, -0.007399215, 0.02346052, -0.027611107, 0.03193135, 0.0008872504, -0.033723094, 0.0024731036, 0.024410129, -0.0022338703, -0.04322528, 0.008881755, -0.012556589, -0.024823401, -0.03278468, 0.00038457738, 0.023819407, -0.027515251, 0.026235955, 0.0025444822, 0.01852484, 0.017408509, 0.108109854, -0.0114331925, -0.0062131407, 0.031920005, -0.028210703, -0.0038753417, -0.12587579, -0.032316893, 0.023457479, -0.02191879, -0.0414544, -0.025132513, 0.05236595, -0.008554746, 0.005130255, -0.041299902, -0.01974409, 0.031901658, -0.015298868, 0.02469048, 0.022119787, 0.082783036, -0.007377567, -0.030130055, 0.022721425, 0.0034232128, -0.022082776, 0.036544062, -0.040970534, 0.028308045, 0.025163835, -0.036672138, -0.0152034415, 0.007947461, 0.033439808, 0.026620047, -0.002625023, 0.015973227, -0.0653742, 0.031704348, -0.004399788, 0.01148927, 0.010704713, -0.03468855, -0.07248585, 0.010082951, 0.034306765, 0.091412544, -0.009017668, -0.010741048, -0.031542912, 0.08478472, 0.011463075, -0.56321937, 0.010069643, 0.033053864, 0.039073464, -0.049180746, 0.046714295, -0.03454555, 0.022272615, 0.012696523, -0.056860823, 0.021670133, 0.0146105, -0.037146065, 0.063302204, -0.12150205, -0.03554206, 0.031488195, -0.026424157, 0.0240995, 0.01717063, -0.008194341, 0.0011957908, -0.030597737, 0.0033202153, 0.031230947, -0.016560817, -0.0067687505, -0.01720293, 0.014170176, 0.011017442, -0.052430615, 0.008748086, 0.020474289, -0.012128125, -0.034636065, 0.02545484, 0.024695596, -0.0034907495, -0.028802123, -0.022037402, -0.010479175, 0.07630955, 0.07542204, -0.017700586, 0.020420017, -0.022278601, -0.029333739, -0.039581046, 0.02192126, 0.0116785625, 0.011048292, 0.053214565, -0.028073061, -0.014981506, -0.0036572285, 0.02684776, -0.0067823213, -0.008681896, 0.039916907, -0.044241652, 0.08009304, -0.032858104, -0.0028733097, -0.018500498, -0.00097327406, 0.006711868, 0.0045890794, 0.0007193464, -0.058479946, -0.048584357, 0.016919367, -0.03746322, -0.017075155, -0.0010556285, -0.0001536766, -0.034872178, 0.01909857, 0.042603422, -0.07154385, -0.006762262, 0.011093385, -0.027643302, 0.00680957, -0.028421836, 0.08941312, -0.0059724287, 0.065536596, 0.0117076775, 0.06424796, 0.0152487075, 0.07642903, 0.021076523, -0.03539001, -0.013413263, -0.015275336, -0.002978951, -0.030014789, 0.028348504, 0.0378037, -0.021698201, -0.040443525, -0.0032238993, 0.05364397, -0.0036616696, -0.047621295, -0.021980207, -0.007116526, 0.02617547, 0.01844594, -0.03525863, 0.023254557, 0.0038267348, -0.017908834, -0.0065903952, -0.06209186, -0.030375838, -0.025192251, 0.020049594, 0.0018200345, 0.032345764, 0.012650076, 0.0057010646, -0.08992051, 0.0017484059, 0.008929063, 0.039189633, 0.00034421016, -0.031350277, 0.014486836, -0.014150025, -0.0052163913, 0.02062223, -0.031124324, 0.0044726944, -0.012227415, -0.03609696, 0.022731418, -0.029689644, -0.002815475, -0.026076593, 0.0028774072, 0.040982105, 0.035781138, 0.0102915075, 0.017044378, 0.024055423, -0.023238834, -0.027195813, 0.020431682, 0.04365566, 0.00011885225, -0.011786767, 0.0015240604, -0.0067036785, 0.011632719, 0.021045158, -0.013812974, 0.052044403, -0.012652097, -0.041386858, -0.012622264, 0.056221023, 0.014506119, -0.03529974, -0.0014458506, 0.001629256, 0.016447663, -0.015975622, 0.018693455, -0.0479146, 0.011884458, 0.028964614, 0.024681844, -0.04015479, -0.010469152, -0.005480857, 0.036980417, 7.898145e-05, -0.05498968, 0.02325345, -0.00842745, -0.050618153, 0.043361407, 0.0048149116, -0.04563793, -0.025112445, -0.003857394, -0.00059785316, -0.02579726, 0.025985138, -0.047413334, -0.029209448, 0.019727333, -0.0151379015, 0.22524713, -0.024847759, -0.022965254, 0.0119732, 0.04561009, -0.04313694, -0.0010093319, 0.002156558, -0.03897868, 0.01916827, -0.029313177, -0.014026662, 0.0299059, 0.011778692, 0.0026833923, -0.009118717, 0.013097099, -0.019574344, 0.010205263, -0.039046366, -0.014534396, 0.01114246, -0.013659881, 0.029176906, -0.019126775, -0.0013369634, 0.07634099, 0.01753069, 0.029251128, 0.020830158, 0.031052953, -0.001503337, -0.0034859437, -0.027909359, 0.020849215, 0.17606056, -0.034921627, -0.048464466, 0.08637298, 0.013928446, -0.0073839924, 0.029555479, -0.029657358, -0.0034530058, 0.011597714, 0.023097247, 0.0052493755, -0.019280244, 0.007064687, 0.0031639389, 0.021838859, 0.035340805, 0.0067230156, 0.01912022, -0.056482323, -0.040851787, 0.012675295, 0.02148089, -0.004699192, 0.007902865, -0.0056799403, 0.032342438, 0.023174617, -0.036934786, -0.0009974701, -0.010823265, 0.029190635, -0.034401804, -0.022180045, 0.0031970213, -0.016000422, -0.033508755, 0.0049023125, 0.017754307, 0.055493873, -0.012611347, -0.021899905, -0.031490892, -0.062030107, -0.027736736, -0.00079555175, 0.012561702, 0.009259469, 0.005553717, -0.009361134, 0.04389459, 0.0177623, 0.0006856464, 0.011091038, -0.051027875, 0.05857413, -0.02114995, 0.017216956, 0.034656048, -0.012796914, 0.019147737, -0.06489641, -0.038714416, -0.006382264, 0.041370757, -0.045998584, -0.027497875, -0.014640039, -0.07712628, -0.022515992, -0.0061351503, 0.0058647306, -0.005990279, -0.0028234527, 0.021497443, 0.0003965735, -0.045901205, 0.01967033, -0.013364949, -0.024775272, -0.005370695, -0.012021606, -0.028850572, 0.004042754, -0.04028326, -0.010946736, 0.045153096, 0.0063981884, 0.008650863, 0.0122197075, 0.003780781, 0.048430324, 0.0092636915, -0.042104386, 0.016000258, 0.010031696, -0.05038248, -0.070940666, -0.02707206, 0.005789545, -0.010069444, 0.057076827, 0.024646247, 0.0075791166, -0.039982222, 0.005067606, -0.015490144, -0.2654932, -0.021314837, 0.00761994, 0.03646424, 0.034610216, -0.027104879, -0.04255131, 0.008512721, 0.0052265343, 0.043263853, 0.032458983, 0.03820995, -0.0488225, 0.04358258, 0.057330675, 0.042606954, 0.05060513, 0.0047915853, 0.029321449, 0.011172384, 0.0013026028, -0.041117102, 0.029201502, 0.025103968, 0.04787652, -0.04050454, -0.007290875, -0.010129411, 0.0023840105, 0.03583425, 0.010744599, -0.024625575, -0.043226633, 0.013408184, 0.037138823, 0.010674911, 0.018915035, -0.012718378, 0.044974912, 0.045606893, -0.027760787, -0.02923858, 0.051311374, 0.045297854, 0.003427481, -0.037926935, 0.020319032, -0.031631663, 0.013228464, 0.04920949, -0.025131399, -0.017080445, -0.016332326, -0.041862484, 0.006218067, 0.0024809479, -0.008284303, 0.016787704, -0.008957493, 0.056601085, 0.045770604, -0.017529832, 0.0037801338, -0.023748199, 0.03331235, -0.0456512, -0.0070638014, -0.028226938, 0.005123116, 0.017639047, -0.0061068586, -0.002519281, -0.008727885, 0.054215834, -0.012635485, 0.03423145, 0.013224863, -0.0143667245, -0.016656326, -0.03982087, -0.03173881, 0.069029525, -0.027214777, 0.04638092]\n"
     ]
    }
   ],
   "source": [
    "scroll_result, _ = client.scroll(\"smartbazar_products\", limit=1, with_vectors=True)\n",
    "print(\"Vector:\", scroll_result[0].vector)  # should not be None\n"
   ]
  },
  {
   "cell_type": "code",
   "execution_count": 8,
   "metadata": {},
   "outputs": [
    {
     "name": "stdout",
     "output_type": "stream",
     "text": [
      "\u001b[2m2025-06-24T11:27:00.556259Z\u001b[0m [\u001b[32m\u001b[1minfo     \u001b[0m] \u001b[1mUsing device: cuda            \u001b[0m\n",
      "\u001b[2m2025-06-24T11:27:00.556866Z\u001b[0m [\u001b[32m\u001b[1minfo     \u001b[0m] \u001b[1mLoaded ViT-B-32-quickgelu model config.\u001b[0m\n",
      "\u001b[2m2025-06-24T11:27:01.341097Z\u001b[0m [\u001b[32m\u001b[1minfo     \u001b[0m] \u001b[1mLoading pretrained ViT-B-32-quickgelu weights (openai).\u001b[0m\n",
      "\u001b[2m2025-06-24T11:27:01.501755Z\u001b[0m [\u001b[32m\u001b[1minfo     \u001b[0m] \u001b[1mLoaded CLIP model: None       \u001b[0m\n",
      "\u001b[2m2025-06-24T11:27:01.502990Z\u001b[0m [\u001b[32m\u001b[1minfo     \u001b[0m] \u001b[1mLoading classes from all.csv  \u001b[0m\n",
      "\u001b[2m2025-06-24T11:27:01.509492Z\u001b[0m [\u001b[32m\u001b[1minfo     \u001b[0m] \u001b[1mLoaded 1592 classes           \u001b[0m\n",
      "\u001b[2m2025-06-24T11:27:01.510370Z\u001b[0m [\u001b[32m\u001b[1minfo     \u001b[0m] \u001b[1mLoaded existing usage.csv with 0 records\u001b[0m\n",
      "\u001b[2m2025-06-24T11:27:01.514724Z\u001b[0m [\u001b[32m\u001b[1minfo     \u001b[0m] \u001b[1mMaking prediction for /home/aslonhamidov/Desktop/work/image_dataset/SimilaritySearch/test_imgs/cup.JPG\u001b[0m\n",
      "\u001b[2m2025-06-24T11:27:02.580515Z\u001b[0m [\u001b[32m\u001b[1minfo     \u001b[0m] \u001b[1mPrediction complete, found top 3 matches\u001b[0m\n"
     ]
    }
   ],
   "source": [
    "from classification import ImageClassifier\n",
    "\n",
    "classifier = ImageClassifier()\n",
    "\n",
    "img_path = '/home/aslonhamidov/Desktop/work/image_dataset/SimilaritySearch/test_imgs/cup.JPG'\n",
    "\n",
    "top_cats = classifier.get_top_categories(img_path)"
   ]
  },
  {
   "cell_type": "code",
   "execution_count": 9,
   "metadata": {},
   "outputs": [
    {
     "data": {
      "text/plain": [
       "['Thermoses and thermo mugs', 'Instant coffee', 'Ground coffee']"
      ]
     },
     "execution_count": 9,
     "metadata": {},
     "output_type": "execute_result"
    }
   ],
   "source": [
    "top_cats"
   ]
  },
  {
   "cell_type": "code",
   "execution_count": 3,
   "metadata": {},
   "outputs": [
    {
     "name": "stdout",
     "output_type": "stream",
     "text": [
      "RN50 (openai)\n",
      "RN50 (yfcc15m)\n",
      "RN50 (cc12m)\n",
      "RN101 (openai)\n",
      "RN101 (yfcc15m)\n",
      "RN50x4 (openai)\n",
      "RN50x16 (openai)\n",
      "RN50x64 (openai)\n",
      "ViT-B-32 (openai)\n",
      "ViT-B-32 (laion400m_e31)\n",
      "ViT-B-32 (laion400m_e32)\n",
      "ViT-B-32 (laion2b_e16)\n",
      "ViT-B-32 (laion2b_s34b_b79k)\n",
      "ViT-B-32 (datacomp_xl_s13b_b90k)\n",
      "ViT-B-32 (datacomp_m_s128m_b4k)\n",
      "ViT-B-32 (commonpool_m_clip_s128m_b4k)\n",
      "ViT-B-32 (commonpool_m_laion_s128m_b4k)\n",
      "ViT-B-32 (commonpool_m_image_s128m_b4k)\n",
      "ViT-B-32 (commonpool_m_text_s128m_b4k)\n",
      "ViT-B-32 (commonpool_m_basic_s128m_b4k)\n",
      "ViT-B-32 (commonpool_m_s128m_b4k)\n",
      "ViT-B-32 (datacomp_s_s13m_b4k)\n",
      "ViT-B-32 (commonpool_s_clip_s13m_b4k)\n",
      "ViT-B-32 (commonpool_s_laion_s13m_b4k)\n",
      "ViT-B-32 (commonpool_s_image_s13m_b4k)\n",
      "ViT-B-32 (commonpool_s_text_s13m_b4k)\n",
      "ViT-B-32 (commonpool_s_basic_s13m_b4k)\n",
      "ViT-B-32 (commonpool_s_s13m_b4k)\n",
      "ViT-B-32 (metaclip_400m)\n",
      "ViT-B-32 (metaclip_fullcc)\n",
      "ViT-B-32-256 (datacomp_s34b_b86k)\n",
      "ViT-B-16 (openai)\n",
      "ViT-B-16 (laion400m_e31)\n",
      "ViT-B-16 (laion400m_e32)\n",
      "ViT-B-16 (laion2b_s34b_b88k)\n",
      "ViT-B-16 (datacomp_xl_s13b_b90k)\n",
      "ViT-B-16 (datacomp_l_s1b_b8k)\n",
      "ViT-B-16 (commonpool_l_clip_s1b_b8k)\n",
      "ViT-B-16 (commonpool_l_laion_s1b_b8k)\n",
      "ViT-B-16 (commonpool_l_image_s1b_b8k)\n",
      "ViT-B-16 (commonpool_l_text_s1b_b8k)\n",
      "ViT-B-16 (commonpool_l_basic_s1b_b8k)\n",
      "ViT-B-16 (commonpool_l_s1b_b8k)\n",
      "ViT-B-16 (dfn2b)\n",
      "ViT-B-16 (metaclip_400m)\n",
      "ViT-B-16 (metaclip_fullcc)\n",
      "ViT-B-16-plus-240 (laion400m_e31)\n",
      "ViT-B-16-plus-240 (laion400m_e32)\n",
      "ViT-L-14 (openai)\n",
      "ViT-L-14 (laion400m_e31)\n",
      "ViT-L-14 (laion400m_e32)\n",
      "ViT-L-14 (laion2b_s32b_b82k)\n",
      "ViT-L-14 (datacomp_xl_s13b_b90k)\n",
      "ViT-L-14 (commonpool_xl_clip_s13b_b90k)\n",
      "ViT-L-14 (commonpool_xl_laion_s13b_b90k)\n",
      "ViT-L-14 (commonpool_xl_s13b_b90k)\n",
      "ViT-L-14 (metaclip_400m)\n",
      "ViT-L-14 (metaclip_fullcc)\n",
      "ViT-L-14 (dfn2b)\n",
      "ViT-L-14 (dfn2b_s39b)\n",
      "ViT-L-14-336 (openai)\n",
      "ViT-H-14 (laion2b_s32b_b79k)\n",
      "ViT-H-14 (metaclip_fullcc)\n",
      "ViT-H-14 (metaclip_altogether)\n",
      "ViT-H-14 (dfn5b)\n",
      "ViT-H-14-378 (dfn5b)\n",
      "ViT-g-14 (laion2b_s12b_b42k)\n",
      "ViT-g-14 (laion2b_s34b_b88k)\n",
      "ViT-bigG-14 (laion2b_s39b_b160k)\n",
      "ViT-bigG-14 (metaclip_fullcc)\n",
      "roberta-ViT-B-32 (laion2b_s12b_b32k)\n",
      "xlm-roberta-base-ViT-B-32 (laion5b_s13b_b90k)\n",
      "xlm-roberta-large-ViT-H-14 (frozen_laion5b_s13b_b90k)\n",
      "convnext_base (laion400m_s13b_b51k)\n",
      "convnext_base_w (laion2b_s13b_b82k)\n",
      "convnext_base_w (laion2b_s13b_b82k_augreg)\n",
      "convnext_base_w (laion_aesthetic_s13b_b82k)\n",
      "convnext_base_w_320 (laion_aesthetic_s13b_b82k)\n",
      "convnext_base_w_320 (laion_aesthetic_s13b_b82k_augreg)\n",
      "convnext_large_d (laion2b_s26b_b102k_augreg)\n",
      "convnext_large_d_320 (laion2b_s29b_b131k_ft)\n",
      "convnext_large_d_320 (laion2b_s29b_b131k_ft_soup)\n",
      "convnext_xxlarge (laion2b_s34b_b82k_augreg)\n",
      "convnext_xxlarge (laion2b_s34b_b82k_augreg_rewind)\n",
      "convnext_xxlarge (laion2b_s34b_b82k_augreg_soup)\n",
      "coca_ViT-B-32 (laion2b_s13b_b90k)\n",
      "coca_ViT-B-32 (mscoco_finetuned_laion2b_s13b_b90k)\n",
      "coca_ViT-L-14 (laion2b_s13b_b90k)\n",
      "coca_ViT-L-14 (mscoco_finetuned_laion2b_s13b_b90k)\n",
      "EVA01-g-14 (laion400m_s11b_b41k)\n",
      "EVA01-g-14-plus (merged2b_s11b_b114k)\n",
      "EVA02-B-16 (merged2b_s8b_b131k)\n",
      "EVA02-L-14 (merged2b_s4b_b131k)\n",
      "EVA02-L-14-336 (merged2b_s6b_b61k)\n",
      "EVA02-E-14 (laion2b_s4b_b115k)\n",
      "EVA02-E-14-plus (laion2b_s9b_b144k)\n",
      "ViT-B-16-SigLIP (webli)\n",
      "ViT-B-16-SigLIP-256 (webli)\n",
      "ViT-B-16-SigLIP-i18n-256 (webli)\n",
      "ViT-B-16-SigLIP-384 (webli)\n",
      "ViT-B-16-SigLIP-512 (webli)\n",
      "ViT-L-16-SigLIP-256 (webli)\n",
      "ViT-L-16-SigLIP-384 (webli)\n",
      "ViT-SO400M-14-SigLIP (webli)\n",
      "ViT-SO400M-16-SigLIP-i18n-256 (webli)\n",
      "ViT-SO400M-14-SigLIP-378 (webli)\n",
      "ViT-SO400M-14-SigLIP-384 (webli)\n",
      "ViT-B-32-SigLIP2-256 (webli)\n",
      "ViT-B-16-SigLIP2 (webli)\n",
      "ViT-B-16-SigLIP2-256 (webli)\n",
      "ViT-B-16-SigLIP2-384 (webli)\n",
      "ViT-B-16-SigLIP2-512 (webli)\n",
      "ViT-L-16-SigLIP2-256 (webli)\n",
      "ViT-L-16-SigLIP2-384 (webli)\n",
      "ViT-L-16-SigLIP2-512 (webli)\n",
      "ViT-SO400M-14-SigLIP2 (webli)\n",
      "ViT-SO400M-14-SigLIP2-378 (webli)\n",
      "ViT-SO400M-16-SigLIP2-256 (webli)\n",
      "ViT-SO400M-16-SigLIP2-384 (webli)\n",
      "ViT-SO400M-16-SigLIP2-512 (webli)\n",
      "ViT-gopt-16-SigLIP2-256 (webli)\n",
      "ViT-gopt-16-SigLIP2-384 (webli)\n",
      "ViT-L-14-CLIPA (datacomp1b)\n",
      "ViT-L-14-CLIPA-336 (datacomp1b)\n",
      "ViT-H-14-CLIPA (datacomp1b)\n",
      "ViT-H-14-CLIPA-336 (laion2b)\n",
      "ViT-H-14-CLIPA-336 (datacomp1b)\n",
      "ViT-bigG-14-CLIPA (datacomp1b)\n",
      "ViT-bigG-14-CLIPA-336 (datacomp1b)\n",
      "nllb-clip-base (v1)\n",
      "nllb-clip-large (v1)\n",
      "nllb-clip-base-siglip (v1)\n",
      "nllb-clip-base-siglip (mrl)\n",
      "nllb-clip-large-siglip (v1)\n",
      "nllb-clip-large-siglip (mrl)\n",
      "MobileCLIP-S1 (datacompdr)\n",
      "MobileCLIP-S2 (datacompdr)\n",
      "MobileCLIP-B (datacompdr)\n",
      "MobileCLIP-B (datacompdr_lt)\n",
      "ViTamin-S (datacomp1b)\n",
      "ViTamin-S-LTT (datacomp1b)\n",
      "ViTamin-B (datacomp1b)\n",
      "ViTamin-B-LTT (datacomp1b)\n",
      "ViTamin-L (datacomp1b)\n",
      "ViTamin-L-256 (datacomp1b)\n",
      "ViTamin-L-336 (datacomp1b)\n",
      "ViTamin-L-384 (datacomp1b)\n",
      "ViTamin-L2 (datacomp1b)\n",
      "ViTamin-L2-256 (datacomp1b)\n",
      "ViTamin-L2-336 (datacomp1b)\n",
      "ViTamin-L2-384 (datacomp1b)\n",
      "ViTamin-XL-256 (datacomp1b)\n",
      "ViTamin-XL-336 (datacomp1b)\n",
      "ViTamin-XL-384 (datacomp1b)\n",
      "RN50-quickgelu (openai)\n",
      "RN50-quickgelu (yfcc15m)\n",
      "RN50-quickgelu (cc12m)\n",
      "RN101-quickgelu (openai)\n",
      "RN101-quickgelu (yfcc15m)\n",
      "RN50x4-quickgelu (openai)\n",
      "RN50x16-quickgelu (openai)\n",
      "RN50x64-quickgelu (openai)\n",
      "ViT-B-32-quickgelu (openai)\n",
      "ViT-B-32-quickgelu (laion400m_e31)\n",
      "ViT-B-32-quickgelu (laion400m_e32)\n",
      "ViT-B-32-quickgelu (metaclip_400m)\n",
      "ViT-B-32-quickgelu (metaclip_fullcc)\n",
      "ViT-B-16-quickgelu (openai)\n",
      "ViT-B-16-quickgelu (dfn2b)\n",
      "ViT-B-16-quickgelu (metaclip_400m)\n",
      "ViT-B-16-quickgelu (metaclip_fullcc)\n",
      "ViT-L-14-quickgelu (openai)\n",
      "ViT-L-14-quickgelu (metaclip_400m)\n",
      "ViT-L-14-quickgelu (metaclip_fullcc)\n",
      "ViT-L-14-quickgelu (dfn2b)\n",
      "ViT-L-14-336-quickgelu (openai)\n",
      "ViT-H-14-quickgelu (metaclip_fullcc)\n",
      "ViT-H-14-quickgelu (dfn5b)\n",
      "ViT-H-14-378-quickgelu (dfn5b)\n",
      "ViT-bigG-14-quickgelu (metaclip_fullcc)\n"
     ]
    }
   ],
   "source": [
    "import open_clip\n",
    "\n",
    "available_models = open_clip.list_pretrained()\n",
    "for model_name, source in available_models:\n",
    "    print(f\"{model_name} ({source})\")\n"
   ]
  },
  {
   "cell_type": "code",
   "execution_count": 8,
   "metadata": {},
   "outputs": [
    {
     "name": "stdout",
     "output_type": "stream",
     "text": [
      "Wanli S-1015 (165/70R14) avtomobil shinasi\n",
      "Kumho Solus KR21 (185/65R14) avtomobil shinasi\n",
      "Haier ES15V-Q2(R) akkumulyatorli elektr suv isitgichi\n",
      "LTB SONEGE kulrang erkaklar futbolkasi\n",
      "Dr.Bei F3 tish irrigatori\n",
      "“GYM mushuk” printli futbolka XL\n"
     ]
    }
   ],
   "source": [
    "i = 0\n",
    "for row in df.itertuples():\n",
    "    print(row.name)\n",
    "    i += 1\n",
    "    if i > 5:\n",
    "        break"
   ]
  },
  {
   "cell_type": "code",
   "execution_count": 4,
   "metadata": {},
   "outputs": [
    {
     "data": {
      "text/html": [
       "<div>\n",
       "<style scoped>\n",
       "    .dataframe tbody tr th:only-of-type {\n",
       "        vertical-align: middle;\n",
       "    }\n",
       "\n",
       "    .dataframe tbody tr th {\n",
       "        vertical-align: top;\n",
       "    }\n",
       "\n",
       "    .dataframe thead th {\n",
       "        text-align: right;\n",
       "    }\n",
       "</style>\n",
       "<table border=\"1\" class=\"dataframe\">\n",
       "  <thead>\n",
       "    <tr style=\"text-align: right;\">\n",
       "      <th></th>\n",
       "      <th>id</th>\n",
       "      <th>name</th>\n",
       "      <th>slug</th>\n",
       "      <th>brand</th>\n",
       "      <th>categories</th>\n",
       "      <th>short_name</th>\n",
       "      <th>all_images</th>\n",
       "      <th>filenames</th>\n",
       "    </tr>\n",
       "  </thead>\n",
       "  <tbody>\n",
       "    <tr>\n",
       "      <th>0</th>\n",
       "      <td>65348</td>\n",
       "      <td>Wanli S-1015 (165/70R14) avtomobil shinasi</td>\n",
       "      <td>avtomobilnaia-sina-wanli-s-1015-16570r14-65348</td>\n",
       "      <td>{'id': 1163, 'name': 'Wanli'}</td>\n",
       "      <td>[Shinalar va disklar, Avtotovarlar]</td>\n",
       "      <td>Wanli S-1015 (165/70R14) avtomobil shinasi</td>\n",
       "      <td>[https://s3.smartbank.uz/market-default/produc...</td>\n",
       "      <td>[images/65348_https:__s3.smartbank.uz_market-d...</td>\n",
       "    </tr>\n",
       "    <tr>\n",
       "      <th>1</th>\n",
       "      <td>63620</td>\n",
       "      <td>Kumho Solus KR21 (185/65R14) avtomobil shinasi</td>\n",
       "      <td>avtomobilnaia-sina-kumho-solus-kr21-18565r14</td>\n",
       "      <td>{'id': 1157, 'name': 'Kumho '}</td>\n",
       "      <td>[Shinalar va disklar, Avtotovarlar]</td>\n",
       "      <td>Kumho Solus KR21 (185/65R14) avtomobil shinasi</td>\n",
       "      <td>[https://s3.smartbank.uz/market-default/produc...</td>\n",
       "      <td>[images/63620_https:__s3.smartbank.uz_market-d...</td>\n",
       "    </tr>\n",
       "    <tr>\n",
       "      <th>2</th>\n",
       "      <td>78798</td>\n",
       "      <td>Haier ES15V-Q2(R) akkumulyatorli elektr suv is...</td>\n",
       "      <td>nakopitelnyi-elektriceskii-vodonagrevatel-haie...</td>\n",
       "      <td>{'id': 28, 'name': 'Haier'}</td>\n",
       "      <td>[Suv isitgichlari va isitish qozonlari, Iqlim ...</td>\n",
       "      <td>Haier ES15V-Q2(R) akkumulyatorli elektr suv</td>\n",
       "      <td>[https://s3.smartbank.uz/market-default/produc...</td>\n",
       "      <td>[images/78798_https:__s3.smartbank.uz_market-d...</td>\n",
       "    </tr>\n",
       "    <tr>\n",
       "      <th>3</th>\n",
       "      <td>75518</td>\n",
       "      <td>LTB SONEGE kulrang erkaklar futbolkasi</td>\n",
       "      <td>muzskaia-futbolka-ltb-sonege-seryi-75518</td>\n",
       "      <td>None</td>\n",
       "      <td>[Futbolkalar va polo, Erkaklar kiyimi, Kiyim]</td>\n",
       "      <td>LTB SONEGE kulrang erkaklar futbolkasi</td>\n",
       "      <td>[https://s3.smartbank.uz/market-default/produc...</td>\n",
       "      <td>[images/75518_https:__s3.smartbank.uz_market-d...</td>\n",
       "    </tr>\n",
       "    <tr>\n",
       "      <th>4</th>\n",
       "      <td>70419</td>\n",
       "      <td>Dr.Bei F3 tish irrigatori</td>\n",
       "      <td>irrigator-drbei-f3-70419</td>\n",
       "      <td>None</td>\n",
       "      <td>[Ogʻiz boʻshligʻi gigiyenasi, Shaxsiy gigiyena...</td>\n",
       "      <td>Dr.Bei F3 tish irrigatori</td>\n",
       "      <td>[https://s3.smartbank.uz/market-default/produc...</td>\n",
       "      <td>[images/70419_https:__s3.smartbank.uz_market-d...</td>\n",
       "    </tr>\n",
       "  </tbody>\n",
       "</table>\n",
       "</div>"
      ],
      "text/plain": [
       "      id                                               name  \\\n",
       "0  65348         Wanli S-1015 (165/70R14) avtomobil shinasi   \n",
       "1  63620     Kumho Solus KR21 (185/65R14) avtomobil shinasi   \n",
       "2  78798  Haier ES15V-Q2(R) akkumulyatorli elektr suv is...   \n",
       "3  75518             LTB SONEGE kulrang erkaklar futbolkasi   \n",
       "4  70419                          Dr.Bei F3 tish irrigatori   \n",
       "\n",
       "                                                slug  \\\n",
       "0     avtomobilnaia-sina-wanli-s-1015-16570r14-65348   \n",
       "1       avtomobilnaia-sina-kumho-solus-kr21-18565r14   \n",
       "2  nakopitelnyi-elektriceskii-vodonagrevatel-haie...   \n",
       "3           muzskaia-futbolka-ltb-sonege-seryi-75518   \n",
       "4                           irrigator-drbei-f3-70419   \n",
       "\n",
       "                            brand  \\\n",
       "0   {'id': 1163, 'name': 'Wanli'}   \n",
       "1  {'id': 1157, 'name': 'Kumho '}   \n",
       "2     {'id': 28, 'name': 'Haier'}   \n",
       "3                            None   \n",
       "4                            None   \n",
       "\n",
       "                                          categories  \\\n",
       "0                [Shinalar va disklar, Avtotovarlar]   \n",
       "1                [Shinalar va disklar, Avtotovarlar]   \n",
       "2  [Suv isitgichlari va isitish qozonlari, Iqlim ...   \n",
       "3      [Futbolkalar va polo, Erkaklar kiyimi, Kiyim]   \n",
       "4  [Ogʻiz boʻshligʻi gigiyenasi, Shaxsiy gigiyena...   \n",
       "\n",
       "                                       short_name  \\\n",
       "0      Wanli S-1015 (165/70R14) avtomobil shinasi   \n",
       "1  Kumho Solus KR21 (185/65R14) avtomobil shinasi   \n",
       "2     Haier ES15V-Q2(R) akkumulyatorli elektr suv   \n",
       "3          LTB SONEGE kulrang erkaklar futbolkasi   \n",
       "4                       Dr.Bei F3 tish irrigatori   \n",
       "\n",
       "                                          all_images  \\\n",
       "0  [https://s3.smartbank.uz/market-default/produc...   \n",
       "1  [https://s3.smartbank.uz/market-default/produc...   \n",
       "2  [https://s3.smartbank.uz/market-default/produc...   \n",
       "3  [https://s3.smartbank.uz/market-default/produc...   \n",
       "4  [https://s3.smartbank.uz/market-default/produc...   \n",
       "\n",
       "                                           filenames  \n",
       "0  [images/65348_https:__s3.smartbank.uz_market-d...  \n",
       "1  [images/63620_https:__s3.smartbank.uz_market-d...  \n",
       "2  [images/78798_https:__s3.smartbank.uz_market-d...  \n",
       "3  [images/75518_https:__s3.smartbank.uz_market-d...  \n",
       "4  [images/70419_https:__s3.smartbank.uz_market-d...  "
      ]
     },
     "execution_count": 4,
     "metadata": {},
     "output_type": "execute_result"
    }
   ],
   "source": [
    "df = pd.read_json(\"processed_with_filenames.json\", lines=True)\n",
    "df.head()"
   ]
  },
  {
   "cell_type": "code",
   "execution_count": 7,
   "metadata": {},
   "outputs": [],
   "source": [
    "cats = []\n",
    "for cat in df['categories']:\n",
    "    cats.extend(cat)"
   ]
  },
  {
   "cell_type": "code",
   "execution_count": 12,
   "metadata": {},
   "outputs": [],
   "source": [
    "unique_cats = set(cats)"
   ]
  },
  {
   "cell_type": "code",
   "execution_count": 13,
   "metadata": {},
   "outputs": [],
   "source": [
    "with open('category_list.txt', 'w') as cf:\n",
    "    for cat in sorted(unique_cats):\n",
    "        cf.write(f'{cat}\\n')"
   ]
  },
  {
   "cell_type": "code",
   "execution_count": 25,
   "metadata": {},
   "outputs": [],
   "source": [
    "labels = dict()\n",
    "\n",
    "for idx, filenames in enumerate(df['filenames']):\n",
    "    for path in filenames:\n",
    "        filename = os.path.basename(path)\n",
    "        labels[filename] = '|'.join(df.loc[idx, 'categories'])"
   ]
  },
  {
   "cell_type": "code",
   "execution_count": 36,
   "metadata": {},
   "outputs": [],
   "source": [
    "labels_csv = pd.DataFrame(list(labels.items()), columns=['filename', 'categories'])"
   ]
  },
  {
   "cell_type": "code",
   "execution_count": 37,
   "metadata": {},
   "outputs": [],
   "source": [
    "labels_csv.to_csv('labels.csv', index=False)"
   ]
  },
  {
   "cell_type": "code",
   "execution_count": 32,
   "metadata": {},
   "outputs": [
    {
     "name": "stdout",
     "output_type": "stream",
     "text": [
      "62805_https:__s3.smartbank.uz_market-default_products_secondary_images_desktop_ZXeD3nGkLy9W0fPHSHECYGdQBpFS46.webp\n",
      "62805_https:__s3.smartbank.uz_market-default_products_secondary_images_mobile_ZXeD3nGkLy9W0fPHSHECYGdQBpFS46.webp\n",
      "66608_https:__s3.smartbank.uz_market-default_products_secondary_images_mobile_KEUvdnprTroWu2T2SR5MZrSDBV5JCA.webp\n",
      "66608_https:__s3.smartbank.uz_market-default_products_secondary_images_desktop_KEUvdnprTroWu2T2SR5MZrSDBV5JCA.webp\n",
      "62807_https:__s3.smartbank.uz_market-default_products_secondary_images_desktop_0HRIObm6bZDIjMiA7plKQAtVWvdDUi.webp\n",
      "62807_https:__s3.smartbank.uz_market-default_products_secondary_images_mobile_0HRIObm6bZDIjMiA7plKQAtVWvdDUi.webp\n",
      "77872_https:__s3.smartbank.uz_market-default_products_secondary_images_desktop_GIvMPLZEMZ9IkNgOhYAuxF1H0uXAkh.webp\n",
      "77872_https:__s3.smartbank.uz_market-default_products_secondary_images_mobile_GIvMPLZEMZ9IkNgOhYAuxF1H0uXAkh.webp\n",
      "62816_https:__s3.smartbank.uz_market-default_products_secondary_images_mobile_SJGPU2qY0yEOzKHnhEE611b5Bx5B9q.webp\n",
      "62816_https:__s3.smartbank.uz_market-default_products_secondary_images_desktop_SJGPU2qY0yEOzKHnhEE611b5Bx5B9q.webp\n",
      "62821_https:__s3.smartbank.uz_market-default_products_secondary_images_mobile_Q9WAsPIAMfIzFemgZOLBiFHB1td6SF.webp\n",
      "62821_https:__s3.smartbank.uz_market-default_products_secondary_images_desktop_Q9WAsPIAMfIzFemgZOLBiFHB1td6SF.webp\n",
      "69892_https:__s3.smartbank.uz_market-default_products_secondary_images_mobile_RIGAheGw9ggRfBGcQnAmVdqVbFFQwC.webp\n",
      "69892_https:__s3.smartbank.uz_market-default_products_secondary_images_desktop_RIGAheGw9ggRfBGcQnAmVdqVbFFQwC.webp\n",
      "62820_https:__s3.smartbank.uz_market-default_products_secondary_images_mobile_0PsyAxoV6ahVYooF2slSoWHuwlDGGG.webp\n",
      "62820_https:__s3.smartbank.uz_market-default_products_secondary_images_desktop_0PsyAxoV6ahVYooF2slSoWHuwlDGGG.webp\n",
      "62832_https:__s3.smartbank.uz_market-default_products_secondary_images_mobile_S9h9EDz0m5GdXowvJvml6gnh1duAQx.webp\n",
      "62832_https:__s3.smartbank.uz_market-default_products_secondary_images_desktop_S9h9EDz0m5GdXowvJvml6gnh1duAQx.webp\n",
      "62811_https:__s3.smartbank.uz_market-default_products_secondary_images_mobile_WPU0pAKgfiNjHsOZJKLTapaudAxjom.webp\n",
      "62811_https:__s3.smartbank.uz_market-default_products_secondary_images_desktop_WPU0pAKgfiNjHsOZJKLTapaudAxjom.webp\n",
      "20\n"
     ]
    }
   ],
   "source": [
    "count = 0\n",
    "files = []\n",
    "for file in labels_csv['filename']:\n",
    "    if file not in os.listdir('images'):\n",
    "        files.append(file)\n",
    "        count += 1\n",
    "        print(file)\n",
    "print(count)"
   ]
  },
  {
   "cell_type": "code",
   "execution_count": 34,
   "metadata": {},
   "outputs": [],
   "source": [
    "for file in files:\n",
    "    del labels[file]"
   ]
  },
  {
   "cell_type": "code",
   "execution_count": null,
   "metadata": {},
   "outputs": [
    {
     "data": {
      "text/plain": [
       "61532"
      ]
     },
     "execution_count": 35,
     "metadata": {},
     "output_type": "execute_result"
    }
   ],
   "source": []
  },
  {
   "cell_type": "code",
   "execution_count": null,
   "metadata": {},
   "outputs": [],
   "source": []
  },
  {
   "cell_type": "code",
   "execution_count": null,
   "metadata": {},
   "outputs": [],
   "source": []
  },
  {
   "cell_type": "code",
   "execution_count": 17,
   "metadata": {},
   "outputs": [],
   "source": [
    "import json\n",
    "from typing import TypedDict, List\n",
    "\n",
    "\n",
    "data: List[ProductItem] = [ProductItem(**x) for x in json.load(open(\"cache_public.json\"))]\n",
    "all_categories = json.load(open(\"categories.json\"))"
   ]
  },
  {
   "cell_type": "code",
   "execution_count": null,
   "metadata": {},
   "outputs": [],
   "source": []
  },
  {
   "cell_type": "code",
   "execution_count": 24,
   "metadata": {},
   "outputs": [
    {
     "data": {
      "text/html": [
       "<div>\n",
       "<style scoped>\n",
       "    .dataframe tbody tr th:only-of-type {\n",
       "        vertical-align: middle;\n",
       "    }\n",
       "\n",
       "    .dataframe tbody tr th {\n",
       "        vertical-align: top;\n",
       "    }\n",
       "\n",
       "    .dataframe thead th {\n",
       "        text-align: right;\n",
       "    }\n",
       "</style>\n",
       "<table border=\"1\" class=\"dataframe\">\n",
       "  <thead>\n",
       "    <tr style=\"text-align: right;\">\n",
       "      <th></th>\n",
       "      <th>id</th>\n",
       "      <th>name</th>\n",
       "      <th>slug</th>\n",
       "      <th>offer_id</th>\n",
       "      <th>image</th>\n",
       "      <th>brand</th>\n",
       "      <th>category</th>\n",
       "      <th>categories</th>\n",
       "      <th>images</th>\n",
       "      <th>price</th>\n",
       "      <th>reviews</th>\n",
       "      <th>offers_count</th>\n",
       "      <th>status</th>\n",
       "      <th>short_name</th>\n",
       "      <th>is_favorite</th>\n",
       "      <th>is_compare</th>\n",
       "    </tr>\n",
       "  </thead>\n",
       "  <tbody>\n",
       "    <tr>\n",
       "      <th>0</th>\n",
       "      <td>85969</td>\n",
       "      <td>KOSS SB40 WB V3 RW quloqchini</td>\n",
       "      <td>nausniki-koss-sb40-wb-v3-rw-41360-85969</td>\n",
       "      <td>103315</td>\n",
       "      <td>{'mobile': 'https://s3.smartbank.uz/market-def...</td>\n",
       "      <td>{'id': 1005, 'name': 'koss'}</td>\n",
       "      <td>{'id': 533, 'name': 'Quloqchinlar', 'slug': 'n...</td>\n",
       "      <td>[Quloqchinlar, Quloqchinlar va audio texnikala...</td>\n",
       "      <td>{'mobile': ['https://s3.smartbank.uz/market-de...</td>\n",
       "      <td>{'original': 549000, 'price': 549000, 'monthly...</td>\n",
       "      <td>{'average_rating': 5.0, 'total': 0}</td>\n",
       "      <td>0</td>\n",
       "      <td>1</td>\n",
       "      <td>KOSS SB40 WB V3 RW quloqchini</td>\n",
       "      <td>False</td>\n",
       "      <td>False</td>\n",
       "    </tr>\n",
       "    <tr>\n",
       "      <th>1</th>\n",
       "      <td>88699</td>\n",
       "      <td>Edifier G30 II Grey o‘yin quloqchini</td>\n",
       "      <td>igrovaia-garnitura-edifier-g30-ii-grey-41516-8...</td>\n",
       "      <td>107461</td>\n",
       "      <td>{'mobile': 'https://s3.smartbank.uz/market-def...</td>\n",
       "      <td>{'id': 456, 'name': 'Edifier'}</td>\n",
       "      <td>{'id': 533, 'name': 'Quloqchinlar', 'slug': 'n...</td>\n",
       "      <td>[Quloqchinlar, Quloqchinlar va audio texnikala...</td>\n",
       "      <td>{'mobile': ['https://s3.smartbank.uz/market-de...</td>\n",
       "      <td>{'original': 519000, 'price': 519000, 'monthly...</td>\n",
       "      <td>{'average_rating': 5.0, 'total': 0}</td>\n",
       "      <td>0</td>\n",
       "      <td>1</td>\n",
       "      <td>Edifier G30 II Grey o‘yin quloqchini</td>\n",
       "      <td>False</td>\n",
       "      <td>False</td>\n",
       "    </tr>\n",
       "    <tr>\n",
       "      <th>2</th>\n",
       "      <td>88700</td>\n",
       "      <td>KOSS GMR540A ISO RW o‘yin garniturasi</td>\n",
       "      <td>igrovaia-garnitura-koss-gmr540a-iso-rw-41377-8...</td>\n",
       "      <td>107463</td>\n",
       "      <td>{'mobile': 'https://s3.smartbank.uz/market-def...</td>\n",
       "      <td>{'id': 1005, 'name': 'koss'}</td>\n",
       "      <td>{'id': 533, 'name': 'Quloqchinlar', 'slug': 'n...</td>\n",
       "      <td>[Quloqchinlar, Quloqchinlar va audio texnikala...</td>\n",
       "      <td>{'mobile': ['https://s3.smartbank.uz/market-de...</td>\n",
       "      <td>{'original': 679000, 'price': 679000, 'monthly...</td>\n",
       "      <td>{'average_rating': 5.0, 'total': 0}</td>\n",
       "      <td>0</td>\n",
       "      <td>1</td>\n",
       "      <td>KOSS GMR540A ISO RW o‘yin garniturasi</td>\n",
       "      <td>False</td>\n",
       "      <td>False</td>\n",
       "    </tr>\n",
       "    <tr>\n",
       "      <th>3</th>\n",
       "      <td>86460</td>\n",
       "      <td>Baseus Compact Quick Charger 2U+C 30W zaryadlo...</td>\n",
       "      <td>setevoe-zariadnoe-ustroistvo-adapter-baseus-co...</td>\n",
       "      <td>104077</td>\n",
       "      <td>{'mobile': 'https://s3.smartbank.uz/market-def...</td>\n",
       "      <td>{'id': 63, 'name': 'Baseus'}</td>\n",
       "      <td>{'id': 607, 'name': 'Smartfonlar uchun aksessu...</td>\n",
       "      <td>[Smartfonlar uchun aksessuarlar, Smartfonlar v...</td>\n",
       "      <td>{'mobile': ['https://s3.smartbank.uz/market-de...</td>\n",
       "      <td>{'original': 199000, 'price': 199000, 'monthly...</td>\n",
       "      <td>{'average_rating': 5.0, 'total': 0}</td>\n",
       "      <td>0</td>\n",
       "      <td>1</td>\n",
       "      <td>Baseus Compact Quick Charger 2U+C 30W zaryadlo...</td>\n",
       "      <td>False</td>\n",
       "      <td>False</td>\n",
       "    </tr>\n",
       "    <tr>\n",
       "      <th>4</th>\n",
       "      <td>87510</td>\n",
       "      <td>Harbinger MM450 Valente dazmollash taxtasi</td>\n",
       "      <td>gladilnaia-doska-harbinger-mm450-valente</td>\n",
       "      <td>105609</td>\n",
       "      <td>{'mobile': 'https://s3.smartbank.uz/market-def...</td>\n",
       "      <td>{'id': 396, 'name': 'Harbinger'}</td>\n",
       "      <td>{'id': 2534, 'name': 'Kiyim va poyabzallar par...</td>\n",
       "      <td>[Kiyim va poyabzallar parvarishi, Xoʻjalik buy...</td>\n",
       "      <td>{'mobile': ['https://s3.smartbank.uz/market-de...</td>\n",
       "      <td>{'original': 469000, 'price': 469000, 'monthly...</td>\n",
       "      <td>{'average_rating': 5.0, 'total': 0}</td>\n",
       "      <td>0</td>\n",
       "      <td>1</td>\n",
       "      <td>Harbinger MM450 Valente dazmollash taxtasi</td>\n",
       "      <td>False</td>\n",
       "      <td>False</td>\n",
       "    </tr>\n",
       "    <tr>\n",
       "      <th>...</th>\n",
       "      <td>...</td>\n",
       "      <td>...</td>\n",
       "      <td>...</td>\n",
       "      <td>...</td>\n",
       "      <td>...</td>\n",
       "      <td>...</td>\n",
       "      <td>...</td>\n",
       "      <td>...</td>\n",
       "      <td>...</td>\n",
       "      <td>...</td>\n",
       "      <td>...</td>\n",
       "      <td>...</td>\n",
       "      <td>...</td>\n",
       "      <td>...</td>\n",
       "      <td>...</td>\n",
       "      <td>...</td>\n",
       "    </tr>\n",
       "    <tr>\n",
       "      <th>9995</th>\n",
       "      <td>83332</td>\n",
       "      <td>Пылесос Samsung VC18M31A5HU/UZ</td>\n",
       "      <td>pylesos-samsung-vc18m31a5huuz-83332</td>\n",
       "      <td>100682</td>\n",
       "      <td>{'mobile': 'https://s3.smartbank.uz/market-def...</td>\n",
       "      <td>{'id': 16, 'name': 'Samsung'}</td>\n",
       "      <td>{'id': 827, 'name': 'Changyutgichlar va aksess...</td>\n",
       "      <td>[Changyutgichlar va aksessuarlar, Uy uchun tex...</td>\n",
       "      <td>{'mobile': ['https://s3.smartbank.uz/market-de...</td>\n",
       "      <td>{'original': 1749000, 'price': 1749000, 'month...</td>\n",
       "      <td>{'average_rating': 5.0, 'total': 0}</td>\n",
       "      <td>0</td>\n",
       "      <td>1</td>\n",
       "      <td>Пылесос Samsung VC18M31A5HU/UZ</td>\n",
       "      <td>False</td>\n",
       "      <td>False</td>\n",
       "    </tr>\n",
       "    <tr>\n",
       "      <th>9996</th>\n",
       "      <td>77224</td>\n",
       "      <td>Artel TG90P Nature 02 9 kg yarimavtomat kir yu...</td>\n",
       "      <td>stiralnaia-masina-poluavtomat-artel-tg90p-9-kg...</td>\n",
       "      <td>94580</td>\n",
       "      <td>{'mobile': 'https://s3.smartbank.uz/market-def...</td>\n",
       "      <td>{'id': 5, 'name': 'Artel'}</td>\n",
       "      <td>{'id': 809, 'name': 'Kir yuvish mashinalari', ...</td>\n",
       "      <td>[Kir yuvish mashinalari, Katta maishiy texnika...</td>\n",
       "      <td>{'mobile': ['https://s3.smartbank.uz/market-de...</td>\n",
       "      <td>{'original': 1949000, 'price': 1949000, 'month...</td>\n",
       "      <td>{'average_rating': 5.0, 'total': 0}</td>\n",
       "      <td>0</td>\n",
       "      <td>1</td>\n",
       "      <td>Artel TG90P Nature 02 9 kg yarimavtomat kir yu...</td>\n",
       "      <td>False</td>\n",
       "      <td>False</td>\n",
       "    </tr>\n",
       "    <tr>\n",
       "      <th>9997</th>\n",
       "      <td>85196</td>\n",
       "      <td>Xiaomi Amazfit GTR 42 mm Silver smart-soati</td>\n",
       "      <td>smart-casy-xiaomi-amazfit-gtr-42-mm-silver-337...</td>\n",
       "      <td>102544</td>\n",
       "      <td>{'mobile': 'https://s3.smartbank.uz/market-def...</td>\n",
       "      <td>{'id': 21, 'name': 'Xiaomi'}</td>\n",
       "      <td>{'id': 674, 'name': 'Aqlli soatlar va fitnes b...</td>\n",
       "      <td>[Aqlli soatlar va fitnes bilaguzuklar, Elektro...</td>\n",
       "      <td>{'mobile': ['https://s3.smartbank.uz/market-de...</td>\n",
       "      <td>{'original': 1439000, 'price': 1439000, 'month...</td>\n",
       "      <td>{'average_rating': 5.0, 'total': 0}</td>\n",
       "      <td>0</td>\n",
       "      <td>1</td>\n",
       "      <td>Xiaomi Amazfit GTR 42 mm Silver smart-soati</td>\n",
       "      <td>False</td>\n",
       "      <td>False</td>\n",
       "    </tr>\n",
       "    <tr>\n",
       "      <th>9998</th>\n",
       "      <td>75818</td>\n",
       "      <td>HONOR Earbuds X3 Lite (White) simsiz quloqchini</td>\n",
       "      <td>besprovodnye-nausniki-honor-earbuds-x3-lite-wh...</td>\n",
       "      <td>93174</td>\n",
       "      <td>{'mobile': 'https://s3.smartbank.uz/market-def...</td>\n",
       "      <td>{'id': 24, 'name': 'Honor'}</td>\n",
       "      <td>{'id': 533, 'name': 'Quloqchinlar', 'slug': 'n...</td>\n",
       "      <td>[Quloqchinlar, Quloqchinlar va audio texnikala...</td>\n",
       "      <td>{'mobile': ['https://s3.smartbank.uz/market-de...</td>\n",
       "      <td>{'original': 639000, 'price': 639000, 'monthly...</td>\n",
       "      <td>{'average_rating': 5.0, 'total': 0}</td>\n",
       "      <td>0</td>\n",
       "      <td>1</td>\n",
       "      <td>HONOR Earbuds X3 Lite (White) simsiz quloqchini</td>\n",
       "      <td>False</td>\n",
       "      <td>False</td>\n",
       "    </tr>\n",
       "    <tr>\n",
       "      <th>9999</th>\n",
       "      <td>74690</td>\n",
       "      <td>WSTER WS-858 olovrang mikrofoni</td>\n",
       "      <td>mikrofon-wster-ws-858-zolotistyi-74690</td>\n",
       "      <td>92046</td>\n",
       "      <td>{'mobile': 'https://s3.smartbank.uz/market-def...</td>\n",
       "      <td>None</td>\n",
       "      <td>{'id': 514, 'name': 'Audiotexnika', 'slug': 'a...</td>\n",
       "      <td>[Audiotexnika, Quloqchinlar va audio texnikala...</td>\n",
       "      <td>{'mobile': ['https://s3.smartbank.uz/market-de...</td>\n",
       "      <td>{'original': 69000, 'price': 69000, 'monthly':...</td>\n",
       "      <td>{'average_rating': 5.0, 'total': 0}</td>\n",
       "      <td>0</td>\n",
       "      <td>1</td>\n",
       "      <td>WSTER WS-858 olovrang mikrofoni</td>\n",
       "      <td>False</td>\n",
       "      <td>False</td>\n",
       "    </tr>\n",
       "  </tbody>\n",
       "</table>\n",
       "<p>10000 rows × 16 columns</p>\n",
       "</div>"
      ],
      "text/plain": [
       "         id                                               name  \\\n",
       "0     85969                      KOSS SB40 WB V3 RW quloqchini   \n",
       "1     88699               Edifier G30 II Grey o‘yin quloqchini   \n",
       "2     88700              KOSS GMR540A ISO RW o‘yin garniturasi   \n",
       "3     86460  Baseus Compact Quick Charger 2U+C 30W zaryadlo...   \n",
       "4     87510         Harbinger MM450 Valente dazmollash taxtasi   \n",
       "...     ...                                                ...   \n",
       "9995  83332                     Пылесос Samsung VC18M31A5HU/UZ   \n",
       "9996  77224  Artel TG90P Nature 02 9 kg yarimavtomat kir yu...   \n",
       "9997  85196        Xiaomi Amazfit GTR 42 mm Silver smart-soati   \n",
       "9998  75818    HONOR Earbuds X3 Lite (White) simsiz quloqchini   \n",
       "9999  74690                    WSTER WS-858 olovrang mikrofoni   \n",
       "\n",
       "                                                   slug  offer_id  \\\n",
       "0               nausniki-koss-sb40-wb-v3-rw-41360-85969    103315   \n",
       "1     igrovaia-garnitura-edifier-g30-ii-grey-41516-8...    107461   \n",
       "2     igrovaia-garnitura-koss-gmr540a-iso-rw-41377-8...    107463   \n",
       "3     setevoe-zariadnoe-ustroistvo-adapter-baseus-co...    104077   \n",
       "4              gladilnaia-doska-harbinger-mm450-valente    105609   \n",
       "...                                                 ...       ...   \n",
       "9995                pylesos-samsung-vc18m31a5huuz-83332    100682   \n",
       "9996  stiralnaia-masina-poluavtomat-artel-tg90p-9-kg...     94580   \n",
       "9997  smart-casy-xiaomi-amazfit-gtr-42-mm-silver-337...    102544   \n",
       "9998  besprovodnye-nausniki-honor-earbuds-x3-lite-wh...     93174   \n",
       "9999             mikrofon-wster-ws-858-zolotistyi-74690     92046   \n",
       "\n",
       "                                                  image  \\\n",
       "0     {'mobile': 'https://s3.smartbank.uz/market-def...   \n",
       "1     {'mobile': 'https://s3.smartbank.uz/market-def...   \n",
       "2     {'mobile': 'https://s3.smartbank.uz/market-def...   \n",
       "3     {'mobile': 'https://s3.smartbank.uz/market-def...   \n",
       "4     {'mobile': 'https://s3.smartbank.uz/market-def...   \n",
       "...                                                 ...   \n",
       "9995  {'mobile': 'https://s3.smartbank.uz/market-def...   \n",
       "9996  {'mobile': 'https://s3.smartbank.uz/market-def...   \n",
       "9997  {'mobile': 'https://s3.smartbank.uz/market-def...   \n",
       "9998  {'mobile': 'https://s3.smartbank.uz/market-def...   \n",
       "9999  {'mobile': 'https://s3.smartbank.uz/market-def...   \n",
       "\n",
       "                                 brand  \\\n",
       "0         {'id': 1005, 'name': 'koss'}   \n",
       "1       {'id': 456, 'name': 'Edifier'}   \n",
       "2         {'id': 1005, 'name': 'koss'}   \n",
       "3         {'id': 63, 'name': 'Baseus'}   \n",
       "4     {'id': 396, 'name': 'Harbinger'}   \n",
       "...                                ...   \n",
       "9995     {'id': 16, 'name': 'Samsung'}   \n",
       "9996        {'id': 5, 'name': 'Artel'}   \n",
       "9997      {'id': 21, 'name': 'Xiaomi'}   \n",
       "9998       {'id': 24, 'name': 'Honor'}   \n",
       "9999                              None   \n",
       "\n",
       "                                               category  \\\n",
       "0     {'id': 533, 'name': 'Quloqchinlar', 'slug': 'n...   \n",
       "1     {'id': 533, 'name': 'Quloqchinlar', 'slug': 'n...   \n",
       "2     {'id': 533, 'name': 'Quloqchinlar', 'slug': 'n...   \n",
       "3     {'id': 607, 'name': 'Smartfonlar uchun aksessu...   \n",
       "4     {'id': 2534, 'name': 'Kiyim va poyabzallar par...   \n",
       "...                                                 ...   \n",
       "9995  {'id': 827, 'name': 'Changyutgichlar va aksess...   \n",
       "9996  {'id': 809, 'name': 'Kir yuvish mashinalari', ...   \n",
       "9997  {'id': 674, 'name': 'Aqlli soatlar va fitnes b...   \n",
       "9998  {'id': 533, 'name': 'Quloqchinlar', 'slug': 'n...   \n",
       "9999  {'id': 514, 'name': 'Audiotexnika', 'slug': 'a...   \n",
       "\n",
       "                                             categories  \\\n",
       "0     [Quloqchinlar, Quloqchinlar va audio texnikala...   \n",
       "1     [Quloqchinlar, Quloqchinlar va audio texnikala...   \n",
       "2     [Quloqchinlar, Quloqchinlar va audio texnikala...   \n",
       "3     [Smartfonlar uchun aksessuarlar, Smartfonlar v...   \n",
       "4     [Kiyim va poyabzallar parvarishi, Xoʻjalik buy...   \n",
       "...                                                 ...   \n",
       "9995  [Changyutgichlar va aksessuarlar, Uy uchun tex...   \n",
       "9996  [Kir yuvish mashinalari, Katta maishiy texnika...   \n",
       "9997  [Aqlli soatlar va fitnes bilaguzuklar, Elektro...   \n",
       "9998  [Quloqchinlar, Quloqchinlar va audio texnikala...   \n",
       "9999  [Audiotexnika, Quloqchinlar va audio texnikala...   \n",
       "\n",
       "                                                 images  \\\n",
       "0     {'mobile': ['https://s3.smartbank.uz/market-de...   \n",
       "1     {'mobile': ['https://s3.smartbank.uz/market-de...   \n",
       "2     {'mobile': ['https://s3.smartbank.uz/market-de...   \n",
       "3     {'mobile': ['https://s3.smartbank.uz/market-de...   \n",
       "4     {'mobile': ['https://s3.smartbank.uz/market-de...   \n",
       "...                                                 ...   \n",
       "9995  {'mobile': ['https://s3.smartbank.uz/market-de...   \n",
       "9996  {'mobile': ['https://s3.smartbank.uz/market-de...   \n",
       "9997  {'mobile': ['https://s3.smartbank.uz/market-de...   \n",
       "9998  {'mobile': ['https://s3.smartbank.uz/market-de...   \n",
       "9999  {'mobile': ['https://s3.smartbank.uz/market-de...   \n",
       "\n",
       "                                                  price  \\\n",
       "0     {'original': 549000, 'price': 549000, 'monthly...   \n",
       "1     {'original': 519000, 'price': 519000, 'monthly...   \n",
       "2     {'original': 679000, 'price': 679000, 'monthly...   \n",
       "3     {'original': 199000, 'price': 199000, 'monthly...   \n",
       "4     {'original': 469000, 'price': 469000, 'monthly...   \n",
       "...                                                 ...   \n",
       "9995  {'original': 1749000, 'price': 1749000, 'month...   \n",
       "9996  {'original': 1949000, 'price': 1949000, 'month...   \n",
       "9997  {'original': 1439000, 'price': 1439000, 'month...   \n",
       "9998  {'original': 639000, 'price': 639000, 'monthly...   \n",
       "9999  {'original': 69000, 'price': 69000, 'monthly':...   \n",
       "\n",
       "                                  reviews  offers_count  status  \\\n",
       "0     {'average_rating': 5.0, 'total': 0}             0       1   \n",
       "1     {'average_rating': 5.0, 'total': 0}             0       1   \n",
       "2     {'average_rating': 5.0, 'total': 0}             0       1   \n",
       "3     {'average_rating': 5.0, 'total': 0}             0       1   \n",
       "4     {'average_rating': 5.0, 'total': 0}             0       1   \n",
       "...                                   ...           ...     ...   \n",
       "9995  {'average_rating': 5.0, 'total': 0}             0       1   \n",
       "9996  {'average_rating': 5.0, 'total': 0}             0       1   \n",
       "9997  {'average_rating': 5.0, 'total': 0}             0       1   \n",
       "9998  {'average_rating': 5.0, 'total': 0}             0       1   \n",
       "9999  {'average_rating': 5.0, 'total': 0}             0       1   \n",
       "\n",
       "                                             short_name  is_favorite  \\\n",
       "0                         KOSS SB40 WB V3 RW quloqchini        False   \n",
       "1                  Edifier G30 II Grey o‘yin quloqchini        False   \n",
       "2                 KOSS GMR540A ISO RW o‘yin garniturasi        False   \n",
       "3     Baseus Compact Quick Charger 2U+C 30W zaryadlo...        False   \n",
       "4            Harbinger MM450 Valente dazmollash taxtasi        False   \n",
       "...                                                 ...          ...   \n",
       "9995                     Пылесос Samsung VC18M31A5HU/UZ        False   \n",
       "9996  Artel TG90P Nature 02 9 kg yarimavtomat kir yu...        False   \n",
       "9997        Xiaomi Amazfit GTR 42 mm Silver smart-soati        False   \n",
       "9998    HONOR Earbuds X3 Lite (White) simsiz quloqchini        False   \n",
       "9999                    WSTER WS-858 olovrang mikrofoni        False   \n",
       "\n",
       "      is_compare  \n",
       "0          False  \n",
       "1          False  \n",
       "2          False  \n",
       "3          False  \n",
       "4          False  \n",
       "...          ...  \n",
       "9995       False  \n",
       "9996       False  \n",
       "9997       False  \n",
       "9998       False  \n",
       "9999       False  \n",
       "\n",
       "[10000 rows x 16 columns]"
      ]
     },
     "execution_count": 24,
     "metadata": {},
     "output_type": "execute_result"
    }
   ],
   "source": [
    "df = pd.DataFrame([x.model_dump() for x in data])\n",
    "df"
   ]
  },
  {
   "cell_type": "code",
   "execution_count": 44,
   "metadata": {},
   "outputs": [],
   "source": [
    "import pandas as pd\n",
    "import json\n",
    "from clients.models import ProductItem\n",
    "\n",
    "\n",
    "def get_images(x):\n",
    "    # print(x)\n",
    "    output = [x[\"image\"][\"mobile\"], x[\"image\"][\"desktop\"]]\n",
    "    other_images = x[\"images\"][\"mobile\"] if isinstance(x[\"images\"][\"mobile\"], list) else [x[\"images\"][\"mobile\"]]\n",
    "    other_images += x[\"images\"][\"desktop\"] if isinstance(x[\"images\"][\"desktop\"], list) else [x[\"images\"][\"desktop\"]]\n",
    "    output.extend(other_images)\n",
    "    return list(set(output))\n",
    "\n",
    "\n",
    "df[\"all_images\"] = df.apply(get_images, axis=1)\n"
   ]
  },
  {
   "cell_type": "code",
   "execution_count": 45,
   "metadata": {},
   "outputs": [
    {
     "data": {
      "text/plain": [
       "0       [https://s3.smartbank.uz/market-default/produc...\n",
       "1       [https://s3.smartbank.uz/market-default/produc...\n",
       "2       [https://s3.smartbank.uz/market-default/produc...\n",
       "3       [https://s3.smartbank.uz/market-default/produc...\n",
       "4       [https://s3.smartbank.uz/market-default/produc...\n",
       "                              ...                        \n",
       "9995    [https://s3.smartbank.uz/market-default/produc...\n",
       "9996    [https://s3.smartbank.uz/market-default/produc...\n",
       "9997    [https://s3.smartbank.uz/market-default/produc...\n",
       "9998    [https://s3.smartbank.uz/market-default/produc...\n",
       "9999    [https://s3.smartbank.uz/market-default/produc...\n",
       "Name: all_images, Length: 10000, dtype: object"
      ]
     },
     "execution_count": 45,
     "metadata": {},
     "output_type": "execute_result"
    }
   ],
   "source": [
    "df[\"all_images\"]"
   ]
  },
  {
   "cell_type": "code",
   "execution_count": 49,
   "metadata": {},
   "outputs": [
    {
     "data": {
      "text/html": [
       "<div>\n",
       "<style scoped>\n",
       "    .dataframe tbody tr th:only-of-type {\n",
       "        vertical-align: middle;\n",
       "    }\n",
       "\n",
       "    .dataframe tbody tr th {\n",
       "        vertical-align: top;\n",
       "    }\n",
       "\n",
       "    .dataframe thead th {\n",
       "        text-align: right;\n",
       "    }\n",
       "</style>\n",
       "<table border=\"1\" class=\"dataframe\">\n",
       "  <thead>\n",
       "    <tr style=\"text-align: right;\">\n",
       "      <th></th>\n",
       "      <th>id</th>\n",
       "      <th>name</th>\n",
       "      <th>slug</th>\n",
       "      <th>brand</th>\n",
       "      <th>categories</th>\n",
       "      <th>short_name</th>\n",
       "      <th>all_images</th>\n",
       "    </tr>\n",
       "  </thead>\n",
       "  <tbody>\n",
       "    <tr>\n",
       "      <th>0</th>\n",
       "      <td>85969</td>\n",
       "      <td>KOSS SB40 WB V3 RW quloqchini</td>\n",
       "      <td>nausniki-koss-sb40-wb-v3-rw-41360-85969</td>\n",
       "      <td>{'id': 1005, 'name': 'koss'}</td>\n",
       "      <td>[Quloqchinlar, Quloqchinlar va audio texnikala...</td>\n",
       "      <td>KOSS SB40 WB V3 RW quloqchini</td>\n",
       "      <td>[https://s3.smartbank.uz/market-default/produc...</td>\n",
       "    </tr>\n",
       "    <tr>\n",
       "      <th>1</th>\n",
       "      <td>88699</td>\n",
       "      <td>Edifier G30 II Grey o‘yin quloqchini</td>\n",
       "      <td>igrovaia-garnitura-edifier-g30-ii-grey-41516-8...</td>\n",
       "      <td>{'id': 456, 'name': 'Edifier'}</td>\n",
       "      <td>[Quloqchinlar, Quloqchinlar va audio texnikala...</td>\n",
       "      <td>Edifier G30 II Grey o‘yin quloqchini</td>\n",
       "      <td>[https://s3.smartbank.uz/market-default/produc...</td>\n",
       "    </tr>\n",
       "    <tr>\n",
       "      <th>2</th>\n",
       "      <td>88700</td>\n",
       "      <td>KOSS GMR540A ISO RW o‘yin garniturasi</td>\n",
       "      <td>igrovaia-garnitura-koss-gmr540a-iso-rw-41377-8...</td>\n",
       "      <td>{'id': 1005, 'name': 'koss'}</td>\n",
       "      <td>[Quloqchinlar, Quloqchinlar va audio texnikala...</td>\n",
       "      <td>KOSS GMR540A ISO RW o‘yin garniturasi</td>\n",
       "      <td>[https://s3.smartbank.uz/market-default/produc...</td>\n",
       "    </tr>\n",
       "    <tr>\n",
       "      <th>3</th>\n",
       "      <td>86460</td>\n",
       "      <td>Baseus Compact Quick Charger 2U+C 30W zaryadlo...</td>\n",
       "      <td>setevoe-zariadnoe-ustroistvo-adapter-baseus-co...</td>\n",
       "      <td>{'id': 63, 'name': 'Baseus'}</td>\n",
       "      <td>[Smartfonlar uchun aksessuarlar, Smartfonlar v...</td>\n",
       "      <td>Baseus Compact Quick Charger 2U+C 30W zaryadlo...</td>\n",
       "      <td>[https://s3.smartbank.uz/market-default/produc...</td>\n",
       "    </tr>\n",
       "    <tr>\n",
       "      <th>4</th>\n",
       "      <td>87510</td>\n",
       "      <td>Harbinger MM450 Valente dazmollash taxtasi</td>\n",
       "      <td>gladilnaia-doska-harbinger-mm450-valente</td>\n",
       "      <td>{'id': 396, 'name': 'Harbinger'}</td>\n",
       "      <td>[Kiyim va poyabzallar parvarishi, Xoʻjalik buy...</td>\n",
       "      <td>Harbinger MM450 Valente dazmollash taxtasi</td>\n",
       "      <td>[https://s3.smartbank.uz/market-default/produc...</td>\n",
       "    </tr>\n",
       "    <tr>\n",
       "      <th>...</th>\n",
       "      <td>...</td>\n",
       "      <td>...</td>\n",
       "      <td>...</td>\n",
       "      <td>...</td>\n",
       "      <td>...</td>\n",
       "      <td>...</td>\n",
       "      <td>...</td>\n",
       "    </tr>\n",
       "    <tr>\n",
       "      <th>9995</th>\n",
       "      <td>83332</td>\n",
       "      <td>Пылесос Samsung VC18M31A5HU/UZ</td>\n",
       "      <td>pylesos-samsung-vc18m31a5huuz-83332</td>\n",
       "      <td>{'id': 16, 'name': 'Samsung'}</td>\n",
       "      <td>[Changyutgichlar va aksessuarlar, Uy uchun tex...</td>\n",
       "      <td>Пылесос Samsung VC18M31A5HU/UZ</td>\n",
       "      <td>[https://s3.smartbank.uz/market-default/produc...</td>\n",
       "    </tr>\n",
       "    <tr>\n",
       "      <th>9996</th>\n",
       "      <td>77224</td>\n",
       "      <td>Artel TG90P Nature 02 9 kg yarimavtomat kir yu...</td>\n",
       "      <td>stiralnaia-masina-poluavtomat-artel-tg90p-9-kg...</td>\n",
       "      <td>{'id': 5, 'name': 'Artel'}</td>\n",
       "      <td>[Kir yuvish mashinalari, Katta maishiy texnika...</td>\n",
       "      <td>Artel TG90P Nature 02 9 kg yarimavtomat kir yu...</td>\n",
       "      <td>[https://s3.smartbank.uz/market-default/produc...</td>\n",
       "    </tr>\n",
       "    <tr>\n",
       "      <th>9997</th>\n",
       "      <td>85196</td>\n",
       "      <td>Xiaomi Amazfit GTR 42 mm Silver smart-soati</td>\n",
       "      <td>smart-casy-xiaomi-amazfit-gtr-42-mm-silver-337...</td>\n",
       "      <td>{'id': 21, 'name': 'Xiaomi'}</td>\n",
       "      <td>[Aqlli soatlar va fitnes bilaguzuklar, Elektro...</td>\n",
       "      <td>Xiaomi Amazfit GTR 42 mm Silver smart-soati</td>\n",
       "      <td>[https://s3.smartbank.uz/market-default/produc...</td>\n",
       "    </tr>\n",
       "    <tr>\n",
       "      <th>9998</th>\n",
       "      <td>75818</td>\n",
       "      <td>HONOR Earbuds X3 Lite (White) simsiz quloqchini</td>\n",
       "      <td>besprovodnye-nausniki-honor-earbuds-x3-lite-wh...</td>\n",
       "      <td>{'id': 24, 'name': 'Honor'}</td>\n",
       "      <td>[Quloqchinlar, Quloqchinlar va audio texnikala...</td>\n",
       "      <td>HONOR Earbuds X3 Lite (White) simsiz quloqchini</td>\n",
       "      <td>[https://s3.smartbank.uz/market-default/produc...</td>\n",
       "    </tr>\n",
       "    <tr>\n",
       "      <th>9999</th>\n",
       "      <td>74690</td>\n",
       "      <td>WSTER WS-858 olovrang mikrofoni</td>\n",
       "      <td>mikrofon-wster-ws-858-zolotistyi-74690</td>\n",
       "      <td>None</td>\n",
       "      <td>[Audiotexnika, Quloqchinlar va audio texnikala...</td>\n",
       "      <td>WSTER WS-858 olovrang mikrofoni</td>\n",
       "      <td>[https://s3.smartbank.uz/market-default/produc...</td>\n",
       "    </tr>\n",
       "  </tbody>\n",
       "</table>\n",
       "<p>10000 rows × 7 columns</p>\n",
       "</div>"
      ],
      "text/plain": [
       "         id                                               name  \\\n",
       "0     85969                      KOSS SB40 WB V3 RW quloqchini   \n",
       "1     88699               Edifier G30 II Grey o‘yin quloqchini   \n",
       "2     88700              KOSS GMR540A ISO RW o‘yin garniturasi   \n",
       "3     86460  Baseus Compact Quick Charger 2U+C 30W zaryadlo...   \n",
       "4     87510         Harbinger MM450 Valente dazmollash taxtasi   \n",
       "...     ...                                                ...   \n",
       "9995  83332                     Пылесос Samsung VC18M31A5HU/UZ   \n",
       "9996  77224  Artel TG90P Nature 02 9 kg yarimavtomat kir yu...   \n",
       "9997  85196        Xiaomi Amazfit GTR 42 mm Silver smart-soati   \n",
       "9998  75818    HONOR Earbuds X3 Lite (White) simsiz quloqchini   \n",
       "9999  74690                    WSTER WS-858 olovrang mikrofoni   \n",
       "\n",
       "                                                   slug  \\\n",
       "0               nausniki-koss-sb40-wb-v3-rw-41360-85969   \n",
       "1     igrovaia-garnitura-edifier-g30-ii-grey-41516-8...   \n",
       "2     igrovaia-garnitura-koss-gmr540a-iso-rw-41377-8...   \n",
       "3     setevoe-zariadnoe-ustroistvo-adapter-baseus-co...   \n",
       "4              gladilnaia-doska-harbinger-mm450-valente   \n",
       "...                                                 ...   \n",
       "9995                pylesos-samsung-vc18m31a5huuz-83332   \n",
       "9996  stiralnaia-masina-poluavtomat-artel-tg90p-9-kg...   \n",
       "9997  smart-casy-xiaomi-amazfit-gtr-42-mm-silver-337...   \n",
       "9998  besprovodnye-nausniki-honor-earbuds-x3-lite-wh...   \n",
       "9999             mikrofon-wster-ws-858-zolotistyi-74690   \n",
       "\n",
       "                                 brand  \\\n",
       "0         {'id': 1005, 'name': 'koss'}   \n",
       "1       {'id': 456, 'name': 'Edifier'}   \n",
       "2         {'id': 1005, 'name': 'koss'}   \n",
       "3         {'id': 63, 'name': 'Baseus'}   \n",
       "4     {'id': 396, 'name': 'Harbinger'}   \n",
       "...                                ...   \n",
       "9995     {'id': 16, 'name': 'Samsung'}   \n",
       "9996        {'id': 5, 'name': 'Artel'}   \n",
       "9997      {'id': 21, 'name': 'Xiaomi'}   \n",
       "9998       {'id': 24, 'name': 'Honor'}   \n",
       "9999                              None   \n",
       "\n",
       "                                             categories  \\\n",
       "0     [Quloqchinlar, Quloqchinlar va audio texnikala...   \n",
       "1     [Quloqchinlar, Quloqchinlar va audio texnikala...   \n",
       "2     [Quloqchinlar, Quloqchinlar va audio texnikala...   \n",
       "3     [Smartfonlar uchun aksessuarlar, Smartfonlar v...   \n",
       "4     [Kiyim va poyabzallar parvarishi, Xoʻjalik buy...   \n",
       "...                                                 ...   \n",
       "9995  [Changyutgichlar va aksessuarlar, Uy uchun tex...   \n",
       "9996  [Kir yuvish mashinalari, Katta maishiy texnika...   \n",
       "9997  [Aqlli soatlar va fitnes bilaguzuklar, Elektro...   \n",
       "9998  [Quloqchinlar, Quloqchinlar va audio texnikala...   \n",
       "9999  [Audiotexnika, Quloqchinlar va audio texnikala...   \n",
       "\n",
       "                                             short_name  \\\n",
       "0                         KOSS SB40 WB V3 RW quloqchini   \n",
       "1                  Edifier G30 II Grey o‘yin quloqchini   \n",
       "2                 KOSS GMR540A ISO RW o‘yin garniturasi   \n",
       "3     Baseus Compact Quick Charger 2U+C 30W zaryadlo...   \n",
       "4            Harbinger MM450 Valente dazmollash taxtasi   \n",
       "...                                                 ...   \n",
       "9995                     Пылесос Samsung VC18M31A5HU/UZ   \n",
       "9996  Artel TG90P Nature 02 9 kg yarimavtomat kir yu...   \n",
       "9997        Xiaomi Amazfit GTR 42 mm Silver smart-soati   \n",
       "9998    HONOR Earbuds X3 Lite (White) simsiz quloqchini   \n",
       "9999                    WSTER WS-858 olovrang mikrofoni   \n",
       "\n",
       "                                             all_images  \n",
       "0     [https://s3.smartbank.uz/market-default/produc...  \n",
       "1     [https://s3.smartbank.uz/market-default/produc...  \n",
       "2     [https://s3.smartbank.uz/market-default/produc...  \n",
       "3     [https://s3.smartbank.uz/market-default/produc...  \n",
       "4     [https://s3.smartbank.uz/market-default/produc...  \n",
       "...                                                 ...  \n",
       "9995  [https://s3.smartbank.uz/market-default/produc...  \n",
       "9996  [https://s3.smartbank.uz/market-default/produc...  \n",
       "9997  [https://s3.smartbank.uz/market-default/produc...  \n",
       "9998  [https://s3.smartbank.uz/market-default/produc...  \n",
       "9999  [https://s3.smartbank.uz/market-default/produc...  \n",
       "\n",
       "[10000 rows x 7 columns]"
      ]
     },
     "execution_count": 49,
     "metadata": {},
     "output_type": "execute_result"
    }
   ],
   "source": [
    "df = df.drop(columns=[\"images\", \"image\",  \"offer_id\", \"category\", \"price\", \"reviews\", \"offers_count\", \"status\", \"is_favorite\", \"is_compare\"])\n",
    "df"
   ]
  },
  {
   "cell_type": "code",
   "execution_count": 52,
   "metadata": {},
   "outputs": [],
   "source": [
    "df.to_json(\"processed.json\", orient=\"records\", lines=True)"
   ]
  },
  {
   "cell_type": "code",
   "execution_count": 53,
   "metadata": {},
   "outputs": [
    {
     "data": {
      "text/plain": [
       "np.int64(74444)"
      ]
     },
     "execution_count": 53,
     "metadata": {},
     "output_type": "execute_result"
    }
   ],
   "source": [
    "df['all_images'].apply(lambda x: len(x)).sum()"
   ]
  },
  {
   "cell_type": "code",
   "execution_count": null,
   "metadata": {},
   "outputs": [],
   "source": []
  }
 ],
 "metadata": {
  "kernelspec": {
   "display_name": "img_train",
   "language": "python",
   "name": "python3"
  },
  "language_info": {
   "codemirror_mode": {
    "name": "ipython",
    "version": 3
   },
   "file_extension": ".py",
   "mimetype": "text/x-python",
   "name": "python",
   "nbconvert_exporter": "python",
   "pygments_lexer": "ipython3",
   "version": "3.11.0"
  }
 },
 "nbformat": 4,
 "nbformat_minor": 2
}
